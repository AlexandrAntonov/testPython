{
 "cells": [
  {
   "cell_type": "markdown",
   "id": "0b6f22c7",
   "metadata": {},
   "source": [
    "# Принятие решений в бизнесе. Проектная работа"
   ]
  },
  {
   "cell_type": "markdown",
   "id": "349b529f",
   "metadata": {},
   "source": [
    "# Описание проекта\n",
    "Вы — аналитик крупного интернет-магазина. Вместе с отделом маркетинга вы подготовили список гипотез для увеличения выручки.\n",
    "Приоритизируйте гипотезы, запустите A/B-тест и проанализируйте результаты."
   ]
  },
  {
   "cell_type": "markdown",
   "id": "3871cddc",
   "metadata": {},
   "source": [
    "# Цели и задачи\n",
    "С помощью методов приоритизации выявить наиболее актуальную гипотезу. По результатам А/В теста определить целесообразность нововведения."
   ]
  },
  {
   "cell_type": "markdown",
   "id": "99258a4d",
   "metadata": {},
   "source": [
    "# Этапы исследования\n",
    "1. Приоритизировать гипотезы\n",
    "- Методом ICE\n",
    "- Методом RICE\n",
    "2. Проанализировать результаты А/В теста\n",
    "- Построить графики\n",
    "- Вычислить статистические значимости\n",
    "3. Сформулировать выводы"
   ]
  },
  {
   "cell_type": "markdown",
   "id": "69225f0e",
   "metadata": {},
   "source": [
    " # Описание данных"
   ]
  },
  {
   "cell_type": "markdown",
   "id": "4f590097",
   "metadata": {},
   "source": [
    "Данные для первой части\n",
    "\n",
    "Файл /datasets/hypothesis.csv.\n",
    "\n",
    "- Hypothesis — краткое описание гипотезы;\n",
    "- Reach — охват пользователей по 10-балльной шкале;\n",
    "- Impact — влияние на пользователей по 10-балльной шкале;\n",
    "- Confidence — уверенность в гипотезе по 10-балльной шкале;\n",
    "- Efforts — затраты ресурсов на проверку гипотезы по 10-балльной шкале. Чем больше значение Efforts, тем дороже проверка гипотезы.\n",
    "\n",
    "Данные для второй части\n",
    "\n",
    "Файл /datasets/orders.csv.\n",
    "\n",
    "- transactionId — идентификатор заказа;\n",
    "- visitorId — идентификатор пользователя, совершившего заказ;\n",
    "- date — дата, когда был совершён заказ;\n",
    "- revenue — выручка заказа;\n",
    "- group — группа A/B-теста, в которую попал заказ.ъ\n",
    "\n",
    "Файл /datasets/visitors.csv.\n",
    "\n",
    "- date — дата;\n",
    "- group — группа A/B-теста;\n",
    "- visitors — количество пользователей в указанную дату в указанной группе A/B-теста"
   ]
  },
  {
   "cell_type": "code",
   "execution_count": 1,
   "id": "7e6e5b9e",
   "metadata": {},
   "outputs": [],
   "source": [
    "import pandas as pd\n",
    "import datetime as dt\n",
    "import numpy as np\n",
    "import matplotlib.pyplot as plt\n",
    "import scipy.stats as stats"
   ]
  },
  {
   "cell_type": "code",
   "execution_count": 2,
   "id": "20cf7e3c",
   "metadata": {},
   "outputs": [],
   "source": [
    "try:\n",
    "    hypothesis, orders, visitors = (pd.read_csv('hypothesis.csv'),\n",
    "                             pd.read_csv('orders.csv'),\n",
    "                             pd.read_csv('visitors.csv'))\n",
    "except:\n",
    "    hypothesis, orders, visitors = (pd.read_csv('/datasets/hypothesis.csv'),\n",
    "                             pd.read_csv('/datasets/orders.csv'),\n",
    "                             pd.read_csv('/datasets/visitors.csv'))"
   ]
  },
  {
   "cell_type": "code",
   "execution_count": 3,
   "id": "2a24e96f",
   "metadata": {},
   "outputs": [
    {
     "name": "stdout",
     "output_type": "stream",
     "text": [
      "<class 'pandas.core.frame.DataFrame'>\n",
      "RangeIndex: 9 entries, 0 to 8\n",
      "Data columns (total 5 columns):\n",
      " #   Column      Non-Null Count  Dtype \n",
      "---  ------      --------------  ----- \n",
      " 0   Hypothesis  9 non-null      object\n",
      " 1   Reach       9 non-null      int64 \n",
      " 2   Impact      9 non-null      int64 \n",
      " 3   Confidence  9 non-null      int64 \n",
      " 4   Efforts     9 non-null      int64 \n",
      "dtypes: int64(4), object(1)\n",
      "memory usage: 488.0+ bytes\n"
     ]
    },
    {
     "data": {
      "text/html": [
       "<div>\n",
       "<style scoped>\n",
       "    .dataframe tbody tr th:only-of-type {\n",
       "        vertical-align: middle;\n",
       "    }\n",
       "\n",
       "    .dataframe tbody tr th {\n",
       "        vertical-align: top;\n",
       "    }\n",
       "\n",
       "    .dataframe thead th {\n",
       "        text-align: right;\n",
       "    }\n",
       "</style>\n",
       "<table border=\"1\" class=\"dataframe\">\n",
       "  <thead>\n",
       "    <tr style=\"text-align: right;\">\n",
       "      <th></th>\n",
       "      <th>Hypothesis</th>\n",
       "      <th>Reach</th>\n",
       "      <th>Impact</th>\n",
       "      <th>Confidence</th>\n",
       "      <th>Efforts</th>\n",
       "    </tr>\n",
       "  </thead>\n",
       "  <tbody>\n",
       "    <tr>\n",
       "      <th>0</th>\n",
       "      <td>Добавить два новых канала привлечения трафика, что позволит привлекать на 30% больше пользователей</td>\n",
       "      <td>3</td>\n",
       "      <td>10</td>\n",
       "      <td>8</td>\n",
       "      <td>6</td>\n",
       "    </tr>\n",
       "    <tr>\n",
       "      <th>1</th>\n",
       "      <td>Запустить собственную службу доставки, что сократит срок доставки заказов</td>\n",
       "      <td>2</td>\n",
       "      <td>5</td>\n",
       "      <td>4</td>\n",
       "      <td>10</td>\n",
       "    </tr>\n",
       "    <tr>\n",
       "      <th>2</th>\n",
       "      <td>Добавить блоки рекомендаций товаров на сайт интернет магазина, чтобы повысить конверсию и средний чек заказа</td>\n",
       "      <td>8</td>\n",
       "      <td>3</td>\n",
       "      <td>7</td>\n",
       "      <td>3</td>\n",
       "    </tr>\n",
       "    <tr>\n",
       "      <th>3</th>\n",
       "      <td>Изменить структура категорий, что увеличит конверсию, т.к. пользователи быстрее найдут нужный товар</td>\n",
       "      <td>8</td>\n",
       "      <td>3</td>\n",
       "      <td>3</td>\n",
       "      <td>8</td>\n",
       "    </tr>\n",
       "    <tr>\n",
       "      <th>4</th>\n",
       "      <td>Изменить цвет фона главной страницы, чтобы увеличить вовлеченность пользователей</td>\n",
       "      <td>3</td>\n",
       "      <td>1</td>\n",
       "      <td>1</td>\n",
       "      <td>1</td>\n",
       "    </tr>\n",
       "    <tr>\n",
       "      <th>5</th>\n",
       "      <td>Добавить страницу отзывов клиентов о магазине, что позволит увеличить количество заказов</td>\n",
       "      <td>3</td>\n",
       "      <td>2</td>\n",
       "      <td>2</td>\n",
       "      <td>3</td>\n",
       "    </tr>\n",
       "    <tr>\n",
       "      <th>6</th>\n",
       "      <td>Показать на главной странице баннеры с актуальными акциями и распродажами, чтобы увеличить конверсию</td>\n",
       "      <td>5</td>\n",
       "      <td>3</td>\n",
       "      <td>8</td>\n",
       "      <td>3</td>\n",
       "    </tr>\n",
       "    <tr>\n",
       "      <th>7</th>\n",
       "      <td>Добавить форму подписки на все основные страницы, чтобы собрать базу клиентов для email-рассылок</td>\n",
       "      <td>10</td>\n",
       "      <td>7</td>\n",
       "      <td>8</td>\n",
       "      <td>5</td>\n",
       "    </tr>\n",
       "    <tr>\n",
       "      <th>8</th>\n",
       "      <td>Запустить акцию, дающую скидку на товар в день рождения</td>\n",
       "      <td>1</td>\n",
       "      <td>9</td>\n",
       "      <td>9</td>\n",
       "      <td>5</td>\n",
       "    </tr>\n",
       "  </tbody>\n",
       "</table>\n",
       "</div>"
      ],
      "text/plain": [
       "                                                                                                     Hypothesis  \\\n",
       "0  Добавить два новых канала привлечения трафика, что позволит привлекать на 30% больше пользователей             \n",
       "1  Запустить собственную службу доставки, что сократит срок доставки заказов                                      \n",
       "2  Добавить блоки рекомендаций товаров на сайт интернет магазина, чтобы повысить конверсию и средний чек заказа   \n",
       "3  Изменить структура категорий, что увеличит конверсию, т.к. пользователи быстрее найдут нужный товар            \n",
       "4  Изменить цвет фона главной страницы, чтобы увеличить вовлеченность пользователей                               \n",
       "5  Добавить страницу отзывов клиентов о магазине, что позволит увеличить количество заказов                       \n",
       "6  Показать на главной странице баннеры с актуальными акциями и распродажами, чтобы увеличить конверсию           \n",
       "7  Добавить форму подписки на все основные страницы, чтобы собрать базу клиентов для email-рассылок               \n",
       "8  Запустить акцию, дающую скидку на товар в день рождения                                                        \n",
       "\n",
       "   Reach  Impact  Confidence  Efforts  \n",
       "0  3      10      8           6        \n",
       "1  2      5       4           10       \n",
       "2  8      3       7           3        \n",
       "3  8      3       3           8        \n",
       "4  3      1       1           1        \n",
       "5  3      2       2           3        \n",
       "6  5      3       8           3        \n",
       "7  10     7       8           5        \n",
       "8  1      9       9           5        "
      ]
     },
     "metadata": {},
     "output_type": "display_data"
    }
   ],
   "source": [
    "hypothesis.info()\n",
    "pd.options.display.max_colwidth = 1\n",
    "display(hypothesis)"
   ]
  },
  {
   "cell_type": "code",
   "execution_count": 4,
   "id": "3bd60acb",
   "metadata": {},
   "outputs": [
    {
     "name": "stdout",
     "output_type": "stream",
     "text": [
      "<class 'pandas.core.frame.DataFrame'>\n",
      "RangeIndex: 1197 entries, 0 to 1196\n",
      "Data columns (total 5 columns):\n",
      " #   Column         Non-Null Count  Dtype \n",
      "---  ------         --------------  ----- \n",
      " 0   transactionId  1197 non-null   int64 \n",
      " 1   visitorId      1197 non-null   int64 \n",
      " 2   date           1197 non-null   object\n",
      " 3   revenue        1197 non-null   int64 \n",
      " 4   group          1197 non-null   object\n",
      "dtypes: int64(3), object(2)\n",
      "memory usage: 46.9+ KB\n"
     ]
    },
    {
     "data": {
      "text/html": [
       "<div>\n",
       "<style scoped>\n",
       "    .dataframe tbody tr th:only-of-type {\n",
       "        vertical-align: middle;\n",
       "    }\n",
       "\n",
       "    .dataframe tbody tr th {\n",
       "        vertical-align: top;\n",
       "    }\n",
       "\n",
       "    .dataframe thead th {\n",
       "        text-align: right;\n",
       "    }\n",
       "</style>\n",
       "<table border=\"1\" class=\"dataframe\">\n",
       "  <thead>\n",
       "    <tr style=\"text-align: right;\">\n",
       "      <th></th>\n",
       "      <th>transactionId</th>\n",
       "      <th>visitorId</th>\n",
       "      <th>date</th>\n",
       "      <th>revenue</th>\n",
       "      <th>group</th>\n",
       "    </tr>\n",
       "  </thead>\n",
       "  <tbody>\n",
       "    <tr>\n",
       "      <th>0</th>\n",
       "      <td>3667963787</td>\n",
       "      <td>3312258926</td>\n",
       "      <td>2019-08-15</td>\n",
       "      <td>1650</td>\n",
       "      <td>B</td>\n",
       "    </tr>\n",
       "    <tr>\n",
       "      <th>1</th>\n",
       "      <td>2804400009</td>\n",
       "      <td>3642806036</td>\n",
       "      <td>2019-08-15</td>\n",
       "      <td>730</td>\n",
       "      <td>B</td>\n",
       "    </tr>\n",
       "    <tr>\n",
       "      <th>2</th>\n",
       "      <td>2961555356</td>\n",
       "      <td>4069496402</td>\n",
       "      <td>2019-08-15</td>\n",
       "      <td>400</td>\n",
       "      <td>A</td>\n",
       "    </tr>\n",
       "    <tr>\n",
       "      <th>3</th>\n",
       "      <td>3797467345</td>\n",
       "      <td>1196621759</td>\n",
       "      <td>2019-08-15</td>\n",
       "      <td>9759</td>\n",
       "      <td>B</td>\n",
       "    </tr>\n",
       "    <tr>\n",
       "      <th>4</th>\n",
       "      <td>2282983706</td>\n",
       "      <td>2322279887</td>\n",
       "      <td>2019-08-15</td>\n",
       "      <td>2308</td>\n",
       "      <td>B</td>\n",
       "    </tr>\n",
       "    <tr>\n",
       "      <th>...</th>\n",
       "      <td>...</td>\n",
       "      <td>...</td>\n",
       "      <td>...</td>\n",
       "      <td>...</td>\n",
       "      <td>...</td>\n",
       "    </tr>\n",
       "    <tr>\n",
       "      <th>1192</th>\n",
       "      <td>2662137336</td>\n",
       "      <td>3733762160</td>\n",
       "      <td>2019-08-14</td>\n",
       "      <td>6490</td>\n",
       "      <td>B</td>\n",
       "    </tr>\n",
       "    <tr>\n",
       "      <th>1193</th>\n",
       "      <td>2203539145</td>\n",
       "      <td>370388673</td>\n",
       "      <td>2019-08-14</td>\n",
       "      <td>3190</td>\n",
       "      <td>A</td>\n",
       "    </tr>\n",
       "    <tr>\n",
       "      <th>1194</th>\n",
       "      <td>1807773912</td>\n",
       "      <td>573423106</td>\n",
       "      <td>2019-08-14</td>\n",
       "      <td>10550</td>\n",
       "      <td>A</td>\n",
       "    </tr>\n",
       "    <tr>\n",
       "      <th>1195</th>\n",
       "      <td>1947021204</td>\n",
       "      <td>1614305549</td>\n",
       "      <td>2019-08-14</td>\n",
       "      <td>100</td>\n",
       "      <td>A</td>\n",
       "    </tr>\n",
       "    <tr>\n",
       "      <th>1196</th>\n",
       "      <td>3936777065</td>\n",
       "      <td>2108080724</td>\n",
       "      <td>2019-08-15</td>\n",
       "      <td>202740</td>\n",
       "      <td>B</td>\n",
       "    </tr>\n",
       "  </tbody>\n",
       "</table>\n",
       "<p>1197 rows × 5 columns</p>\n",
       "</div>"
      ],
      "text/plain": [
       "      transactionId   visitorId        date  revenue group\n",
       "0     3667963787     3312258926  2019-08-15  1650     B   \n",
       "1     2804400009     3642806036  2019-08-15  730      B   \n",
       "2     2961555356     4069496402  2019-08-15  400      A   \n",
       "3     3797467345     1196621759  2019-08-15  9759     B   \n",
       "4     2282983706     2322279887  2019-08-15  2308     B   \n",
       "...          ...            ...         ...   ...    ..   \n",
       "1192  2662137336     3733762160  2019-08-14  6490     B   \n",
       "1193  2203539145     370388673   2019-08-14  3190     A   \n",
       "1194  1807773912     573423106   2019-08-14  10550    A   \n",
       "1195  1947021204     1614305549  2019-08-14  100      A   \n",
       "1196  3936777065     2108080724  2019-08-15  202740   B   \n",
       "\n",
       "[1197 rows x 5 columns]"
      ]
     },
     "metadata": {},
     "output_type": "display_data"
    },
    {
     "data": {
      "text/plain": [
       "0"
      ]
     },
     "execution_count": 4,
     "metadata": {},
     "output_type": "execute_result"
    }
   ],
   "source": [
    "orders.info()\n",
    "display(orders)\n",
    "orders.duplicated().sum()"
   ]
  },
  {
   "cell_type": "code",
   "execution_count": 5,
   "id": "10a27345",
   "metadata": {},
   "outputs": [
    {
     "data": {
      "text/plain": [
       "58"
      ]
     },
     "execution_count": 5,
     "metadata": {},
     "output_type": "execute_result"
    }
   ],
   "source": [
    "pd.Series(orders.query('group == \"A\"')['visitorId'].unique()).isin(pd.Series(orders.query('group == \"B\"')['visitorId'].unique())).sum()"
   ]
  },
  {
   "cell_type": "markdown",
   "id": "dd87bd34",
   "metadata": {},
   "source": [
    "58 пользователей оказались одновременно в 2х группах. Надо их исключить."
   ]
  },
  {
   "cell_type": "code",
   "execution_count": 6,
   "id": "61280bc5",
   "metadata": {},
   "outputs": [
    {
     "data": {
      "text/html": [
       "<div>\n",
       "<style scoped>\n",
       "    .dataframe tbody tr th:only-of-type {\n",
       "        vertical-align: middle;\n",
       "    }\n",
       "\n",
       "    .dataframe tbody tr th {\n",
       "        vertical-align: top;\n",
       "    }\n",
       "\n",
       "    .dataframe thead th {\n",
       "        text-align: right;\n",
       "    }\n",
       "</style>\n",
       "<table border=\"1\" class=\"dataframe\">\n",
       "  <thead>\n",
       "    <tr style=\"text-align: right;\">\n",
       "      <th></th>\n",
       "      <th>transactionId</th>\n",
       "      <th>visitorId</th>\n",
       "      <th>date</th>\n",
       "      <th>revenue</th>\n",
       "      <th>group</th>\n",
       "    </tr>\n",
       "  </thead>\n",
       "  <tbody>\n",
       "    <tr>\n",
       "      <th>0</th>\n",
       "      <td>3667963787</td>\n",
       "      <td>3312258926</td>\n",
       "      <td>2019-08-15</td>\n",
       "      <td>1650</td>\n",
       "      <td>B</td>\n",
       "    </tr>\n",
       "    <tr>\n",
       "      <th>1</th>\n",
       "      <td>2804400009</td>\n",
       "      <td>3642806036</td>\n",
       "      <td>2019-08-15</td>\n",
       "      <td>730</td>\n",
       "      <td>B</td>\n",
       "    </tr>\n",
       "    <tr>\n",
       "      <th>2</th>\n",
       "      <td>3797467345</td>\n",
       "      <td>1196621759</td>\n",
       "      <td>2019-08-15</td>\n",
       "      <td>9759</td>\n",
       "      <td>B</td>\n",
       "    </tr>\n",
       "    <tr>\n",
       "      <th>3</th>\n",
       "      <td>2282983706</td>\n",
       "      <td>2322279887</td>\n",
       "      <td>2019-08-15</td>\n",
       "      <td>2308</td>\n",
       "      <td>B</td>\n",
       "    </tr>\n",
       "    <tr>\n",
       "      <th>4</th>\n",
       "      <td>182168103</td>\n",
       "      <td>935554773</td>\n",
       "      <td>2019-08-15</td>\n",
       "      <td>2210</td>\n",
       "      <td>B</td>\n",
       "    </tr>\n",
       "    <tr>\n",
       "      <th>...</th>\n",
       "      <td>...</td>\n",
       "      <td>...</td>\n",
       "      <td>...</td>\n",
       "      <td>...</td>\n",
       "      <td>...</td>\n",
       "    </tr>\n",
       "    <tr>\n",
       "      <th>1011</th>\n",
       "      <td>3592955527</td>\n",
       "      <td>608641596</td>\n",
       "      <td>2019-08-14</td>\n",
       "      <td>16490</td>\n",
       "      <td>B</td>\n",
       "    </tr>\n",
       "    <tr>\n",
       "      <th>1012</th>\n",
       "      <td>2662137336</td>\n",
       "      <td>3733762160</td>\n",
       "      <td>2019-08-14</td>\n",
       "      <td>6490</td>\n",
       "      <td>B</td>\n",
       "    </tr>\n",
       "    <tr>\n",
       "      <th>1013</th>\n",
       "      <td>2203539145</td>\n",
       "      <td>370388673</td>\n",
       "      <td>2019-08-14</td>\n",
       "      <td>3190</td>\n",
       "      <td>A</td>\n",
       "    </tr>\n",
       "    <tr>\n",
       "      <th>1014</th>\n",
       "      <td>1807773912</td>\n",
       "      <td>573423106</td>\n",
       "      <td>2019-08-14</td>\n",
       "      <td>10550</td>\n",
       "      <td>A</td>\n",
       "    </tr>\n",
       "    <tr>\n",
       "      <th>1015</th>\n",
       "      <td>3936777065</td>\n",
       "      <td>2108080724</td>\n",
       "      <td>2019-08-15</td>\n",
       "      <td>202740</td>\n",
       "      <td>B</td>\n",
       "    </tr>\n",
       "  </tbody>\n",
       "</table>\n",
       "<p>1016 rows × 5 columns</p>\n",
       "</div>"
      ],
      "text/plain": [
       "      transactionId   visitorId        date  revenue group\n",
       "0     3667963787     3312258926  2019-08-15  1650     B   \n",
       "1     2804400009     3642806036  2019-08-15  730      B   \n",
       "2     3797467345     1196621759  2019-08-15  9759     B   \n",
       "3     2282983706     2322279887  2019-08-15  2308     B   \n",
       "4     182168103      935554773   2019-08-15  2210     B   \n",
       "...         ...            ...          ...   ...    ..   \n",
       "1011  3592955527     608641596   2019-08-14  16490    B   \n",
       "1012  2662137336     3733762160  2019-08-14  6490     B   \n",
       "1013  2203539145     370388673   2019-08-14  3190     A   \n",
       "1014  1807773912     573423106   2019-08-14  10550    A   \n",
       "1015  3936777065     2108080724  2019-08-15  202740   B   \n",
       "\n",
       "[1016 rows x 5 columns]"
      ]
     },
     "execution_count": 6,
     "metadata": {},
     "output_type": "execute_result"
    }
   ],
   "source": [
    "dgu = pd.DataFrame(orders.query('group == \"A\"')['visitorId'].unique())\n",
    "dgu['doubled'] = pd.Series(orders.query('group == \"A\"')['visitorId'].unique()).isin(pd.Series(orders.query('group == \"B\"')['visitorId'].unique()))\n",
    "doubled_users = dgu.query('doubled == True')[0]\n",
    "orders = orders.query('~visitorId.isin(@doubled_users)').reset_index(drop=True)\n",
    "orders"
   ]
  },
  {
   "cell_type": "code",
   "execution_count": 7,
   "id": "393ec59a",
   "metadata": {},
   "outputs": [
    {
     "name": "stdout",
     "output_type": "stream",
     "text": [
      "<class 'pandas.core.frame.DataFrame'>\n",
      "RangeIndex: 1016 entries, 0 to 1015\n",
      "Data columns (total 5 columns):\n",
      " #   Column         Non-Null Count  Dtype         \n",
      "---  ------         --------------  -----         \n",
      " 0   transactionId  1016 non-null   int64         \n",
      " 1   visitorId      1016 non-null   int64         \n",
      " 2   date           1016 non-null   datetime64[ns]\n",
      " 3   revenue        1016 non-null   int64         \n",
      " 4   group          1016 non-null   object        \n",
      "dtypes: datetime64[ns](1), int64(3), object(1)\n",
      "memory usage: 39.8+ KB\n"
     ]
    }
   ],
   "source": [
    "orders['date'] = orders['date'].map(lambda x: dt.datetime.strptime(x, '%Y-%m-%d'))\n",
    "orders.info()"
   ]
  },
  {
   "cell_type": "code",
   "execution_count": 8,
   "id": "712fd642",
   "metadata": {},
   "outputs": [
    {
     "name": "stdout",
     "output_type": "stream",
     "text": [
      "<class 'pandas.core.frame.DataFrame'>\n",
      "RangeIndex: 62 entries, 0 to 61\n",
      "Data columns (total 3 columns):\n",
      " #   Column    Non-Null Count  Dtype         \n",
      "---  ------    --------------  -----         \n",
      " 0   date      62 non-null     datetime64[ns]\n",
      " 1   group     62 non-null     object        \n",
      " 2   visitors  62 non-null     int64         \n",
      "dtypes: datetime64[ns](1), int64(1), object(1)\n",
      "memory usage: 1.6+ KB\n"
     ]
    },
    {
     "data": {
      "text/html": [
       "<div>\n",
       "<style scoped>\n",
       "    .dataframe tbody tr th:only-of-type {\n",
       "        vertical-align: middle;\n",
       "    }\n",
       "\n",
       "    .dataframe tbody tr th {\n",
       "        vertical-align: top;\n",
       "    }\n",
       "\n",
       "    .dataframe thead th {\n",
       "        text-align: right;\n",
       "    }\n",
       "</style>\n",
       "<table border=\"1\" class=\"dataframe\">\n",
       "  <thead>\n",
       "    <tr style=\"text-align: right;\">\n",
       "      <th></th>\n",
       "      <th>date</th>\n",
       "      <th>group</th>\n",
       "      <th>visitors</th>\n",
       "    </tr>\n",
       "  </thead>\n",
       "  <tbody>\n",
       "    <tr>\n",
       "      <th>0</th>\n",
       "      <td>2019-08-01</td>\n",
       "      <td>A</td>\n",
       "      <td>719</td>\n",
       "    </tr>\n",
       "    <tr>\n",
       "      <th>1</th>\n",
       "      <td>2019-08-02</td>\n",
       "      <td>A</td>\n",
       "      <td>619</td>\n",
       "    </tr>\n",
       "    <tr>\n",
       "      <th>2</th>\n",
       "      <td>2019-08-03</td>\n",
       "      <td>A</td>\n",
       "      <td>507</td>\n",
       "    </tr>\n",
       "    <tr>\n",
       "      <th>3</th>\n",
       "      <td>2019-08-04</td>\n",
       "      <td>A</td>\n",
       "      <td>717</td>\n",
       "    </tr>\n",
       "    <tr>\n",
       "      <th>4</th>\n",
       "      <td>2019-08-05</td>\n",
       "      <td>A</td>\n",
       "      <td>756</td>\n",
       "    </tr>\n",
       "    <tr>\n",
       "      <th>...</th>\n",
       "      <td>...</td>\n",
       "      <td>...</td>\n",
       "      <td>...</td>\n",
       "    </tr>\n",
       "    <tr>\n",
       "      <th>57</th>\n",
       "      <td>2019-08-27</td>\n",
       "      <td>B</td>\n",
       "      <td>720</td>\n",
       "    </tr>\n",
       "    <tr>\n",
       "      <th>58</th>\n",
       "      <td>2019-08-28</td>\n",
       "      <td>B</td>\n",
       "      <td>654</td>\n",
       "    </tr>\n",
       "    <tr>\n",
       "      <th>59</th>\n",
       "      <td>2019-08-29</td>\n",
       "      <td>B</td>\n",
       "      <td>531</td>\n",
       "    </tr>\n",
       "    <tr>\n",
       "      <th>60</th>\n",
       "      <td>2019-08-30</td>\n",
       "      <td>B</td>\n",
       "      <td>490</td>\n",
       "    </tr>\n",
       "    <tr>\n",
       "      <th>61</th>\n",
       "      <td>2019-08-31</td>\n",
       "      <td>B</td>\n",
       "      <td>718</td>\n",
       "    </tr>\n",
       "  </tbody>\n",
       "</table>\n",
       "<p>62 rows × 3 columns</p>\n",
       "</div>"
      ],
      "text/plain": [
       "         date group  visitors\n",
       "0  2019-08-01  A     719     \n",
       "1  2019-08-02  A     619     \n",
       "2  2019-08-03  A     507     \n",
       "3  2019-08-04  A     717     \n",
       "4  2019-08-05  A     756     \n",
       "..        ... ..     ...     \n",
       "57 2019-08-27  B     720     \n",
       "58 2019-08-28  B     654     \n",
       "59 2019-08-29  B     531     \n",
       "60 2019-08-30  B     490     \n",
       "61 2019-08-31  B     718     \n",
       "\n",
       "[62 rows x 3 columns]"
      ]
     },
     "metadata": {},
     "output_type": "display_data"
    }
   ],
   "source": [
    "visitors['date'] = visitors['date'].map(lambda x: dt.datetime.strptime(x, '%Y-%m-%d'))\n",
    "visitors.info()\n",
    "display(visitors)"
   ]
  },
  {
   "cell_type": "markdown",
   "id": "16ca26b2",
   "metadata": {},
   "source": [
    "В данных нет пропусков и дубликатов, но были пользователи, которые находились одновременно в 2х группах теста. Эти данные были удалены из таблицы, что бы не искажать результаты анализа."
   ]
  },
  {
   "cell_type": "markdown",
   "id": "5af0c1ec",
   "metadata": {},
   "source": [
    "## Часть 1. Приоритизация гипотез.\n",
    "В файле /datasets/hypothesis.csv 9 гипотез по увеличению выручки интернет-магазина с указанными параметрами Reach, Impact, Confidence, Effort."
   ]
  },
  {
   "cell_type": "markdown",
   "id": "9579d665",
   "metadata": {},
   "source": [
    "### Примените фреймворк ICE для приоритизации гипотез. Отсортируйте их по убыванию приоритета."
   ]
  },
  {
   "cell_type": "code",
   "execution_count": 9,
   "id": "d591ac81",
   "metadata": {},
   "outputs": [
    {
     "data": {
      "text/html": [
       "<div>\n",
       "<style scoped>\n",
       "    .dataframe tbody tr th:only-of-type {\n",
       "        vertical-align: middle;\n",
       "    }\n",
       "\n",
       "    .dataframe tbody tr th {\n",
       "        vertical-align: top;\n",
       "    }\n",
       "\n",
       "    .dataframe thead th {\n",
       "        text-align: right;\n",
       "    }\n",
       "</style>\n",
       "<table border=\"1\" class=\"dataframe\">\n",
       "  <thead>\n",
       "    <tr style=\"text-align: right;\">\n",
       "      <th></th>\n",
       "      <th>Hypothesis</th>\n",
       "      <th>ICE</th>\n",
       "    </tr>\n",
       "  </thead>\n",
       "  <tbody>\n",
       "    <tr>\n",
       "      <th>8</th>\n",
       "      <td>Запустить акцию, дающую скидку на товар в день рождения</td>\n",
       "      <td>16.200</td>\n",
       "    </tr>\n",
       "    <tr>\n",
       "      <th>0</th>\n",
       "      <td>Добавить два новых канала привлечения трафика, что позволит привлекать на 30% больше пользователей</td>\n",
       "      <td>13.333</td>\n",
       "    </tr>\n",
       "    <tr>\n",
       "      <th>7</th>\n",
       "      <td>Добавить форму подписки на все основные страницы, чтобы собрать базу клиентов для email-рассылок</td>\n",
       "      <td>11.200</td>\n",
       "    </tr>\n",
       "    <tr>\n",
       "      <th>6</th>\n",
       "      <td>Показать на главной странице баннеры с актуальными акциями и распродажами, чтобы увеличить конверсию</td>\n",
       "      <td>8.000</td>\n",
       "    </tr>\n",
       "    <tr>\n",
       "      <th>2</th>\n",
       "      <td>Добавить блоки рекомендаций товаров на сайт интернет магазина, чтобы повысить конверсию и средний чек заказа</td>\n",
       "      <td>7.000</td>\n",
       "    </tr>\n",
       "    <tr>\n",
       "      <th>1</th>\n",
       "      <td>Запустить собственную службу доставки, что сократит срок доставки заказов</td>\n",
       "      <td>2.000</td>\n",
       "    </tr>\n",
       "    <tr>\n",
       "      <th>5</th>\n",
       "      <td>Добавить страницу отзывов клиентов о магазине, что позволит увеличить количество заказов</td>\n",
       "      <td>1.333</td>\n",
       "    </tr>\n",
       "    <tr>\n",
       "      <th>3</th>\n",
       "      <td>Изменить структура категорий, что увеличит конверсию, т.к. пользователи быстрее найдут нужный товар</td>\n",
       "      <td>1.125</td>\n",
       "    </tr>\n",
       "    <tr>\n",
       "      <th>4</th>\n",
       "      <td>Изменить цвет фона главной страницы, чтобы увеличить вовлеченность пользователей</td>\n",
       "      <td>1.000</td>\n",
       "    </tr>\n",
       "  </tbody>\n",
       "</table>\n",
       "</div>"
      ],
      "text/plain": [
       "                                                                                                     Hypothesis  \\\n",
       "8  Запустить акцию, дающую скидку на товар в день рождения                                                        \n",
       "0  Добавить два новых канала привлечения трафика, что позволит привлекать на 30% больше пользователей             \n",
       "7  Добавить форму подписки на все основные страницы, чтобы собрать базу клиентов для email-рассылок               \n",
       "6  Показать на главной странице баннеры с актуальными акциями и распродажами, чтобы увеличить конверсию           \n",
       "2  Добавить блоки рекомендаций товаров на сайт интернет магазина, чтобы повысить конверсию и средний чек заказа   \n",
       "1  Запустить собственную службу доставки, что сократит срок доставки заказов                                      \n",
       "5  Добавить страницу отзывов клиентов о магазине, что позволит увеличить количество заказов                       \n",
       "3  Изменить структура категорий, что увеличит конверсию, т.к. пользователи быстрее найдут нужный товар            \n",
       "4  Изменить цвет фона главной страницы, чтобы увеличить вовлеченность пользователей                               \n",
       "\n",
       "      ICE  \n",
       "8  16.200  \n",
       "0  13.333  \n",
       "7  11.200  \n",
       "6  8.000   \n",
       "2  7.000   \n",
       "1  2.000   \n",
       "5  1.333   \n",
       "3  1.125   \n",
       "4  1.000   "
      ]
     },
     "metadata": {},
     "output_type": "display_data"
    }
   ],
   "source": [
    "hypothesis['ICE']=(hypothesis['Impact']*hypothesis['Confidence']/hypothesis['Efforts']).map('{:.3f}'.format).astype(float)\n",
    "display(hypothesis[['Hypothesis','ICE']].sort_values('ICE',ascending=False))"
   ]
  },
  {
   "cell_type": "markdown",
   "id": "93b0b39f",
   "metadata": {},
   "source": [
    "### Примените фреймворк RICE для приоритизации гипотез. Отсортируйте их по убыванию приоритета."
   ]
  },
  {
   "cell_type": "code",
   "execution_count": 10,
   "id": "6dd2fce1",
   "metadata": {},
   "outputs": [
    {
     "data": {
      "text/html": [
       "<div>\n",
       "<style scoped>\n",
       "    .dataframe tbody tr th:only-of-type {\n",
       "        vertical-align: middle;\n",
       "    }\n",
       "\n",
       "    .dataframe tbody tr th {\n",
       "        vertical-align: top;\n",
       "    }\n",
       "\n",
       "    .dataframe thead th {\n",
       "        text-align: right;\n",
       "    }\n",
       "</style>\n",
       "<table border=\"1\" class=\"dataframe\">\n",
       "  <thead>\n",
       "    <tr style=\"text-align: right;\">\n",
       "      <th></th>\n",
       "      <th>Hypothesis</th>\n",
       "      <th>RICE</th>\n",
       "    </tr>\n",
       "  </thead>\n",
       "  <tbody>\n",
       "    <tr>\n",
       "      <th>7</th>\n",
       "      <td>Добавить форму подписки на все основные страницы, чтобы собрать базу клиентов для email-рассылок</td>\n",
       "      <td>112.0</td>\n",
       "    </tr>\n",
       "    <tr>\n",
       "      <th>2</th>\n",
       "      <td>Добавить блоки рекомендаций товаров на сайт интернет магазина, чтобы повысить конверсию и средний чек заказа</td>\n",
       "      <td>56.0</td>\n",
       "    </tr>\n",
       "    <tr>\n",
       "      <th>0</th>\n",
       "      <td>Добавить два новых канала привлечения трафика, что позволит привлекать на 30% больше пользователей</td>\n",
       "      <td>40.0</td>\n",
       "    </tr>\n",
       "    <tr>\n",
       "      <th>6</th>\n",
       "      <td>Показать на главной странице баннеры с актуальными акциями и распродажами, чтобы увеличить конверсию</td>\n",
       "      <td>40.0</td>\n",
       "    </tr>\n",
       "    <tr>\n",
       "      <th>8</th>\n",
       "      <td>Запустить акцию, дающую скидку на товар в день рождения</td>\n",
       "      <td>16.2</td>\n",
       "    </tr>\n",
       "    <tr>\n",
       "      <th>3</th>\n",
       "      <td>Изменить структура категорий, что увеличит конверсию, т.к. пользователи быстрее найдут нужный товар</td>\n",
       "      <td>9.0</td>\n",
       "    </tr>\n",
       "    <tr>\n",
       "      <th>1</th>\n",
       "      <td>Запустить собственную службу доставки, что сократит срок доставки заказов</td>\n",
       "      <td>4.0</td>\n",
       "    </tr>\n",
       "    <tr>\n",
       "      <th>5</th>\n",
       "      <td>Добавить страницу отзывов клиентов о магазине, что позволит увеличить количество заказов</td>\n",
       "      <td>4.0</td>\n",
       "    </tr>\n",
       "    <tr>\n",
       "      <th>4</th>\n",
       "      <td>Изменить цвет фона главной страницы, чтобы увеличить вовлеченность пользователей</td>\n",
       "      <td>3.0</td>\n",
       "    </tr>\n",
       "  </tbody>\n",
       "</table>\n",
       "</div>"
      ],
      "text/plain": [
       "                                                                                                     Hypothesis  \\\n",
       "7  Добавить форму подписки на все основные страницы, чтобы собрать базу клиентов для email-рассылок               \n",
       "2  Добавить блоки рекомендаций товаров на сайт интернет магазина, чтобы повысить конверсию и средний чек заказа   \n",
       "0  Добавить два новых канала привлечения трафика, что позволит привлекать на 30% больше пользователей             \n",
       "6  Показать на главной странице баннеры с актуальными акциями и распродажами, чтобы увеличить конверсию           \n",
       "8  Запустить акцию, дающую скидку на товар в день рождения                                                        \n",
       "3  Изменить структура категорий, что увеличит конверсию, т.к. пользователи быстрее найдут нужный товар            \n",
       "1  Запустить собственную службу доставки, что сократит срок доставки заказов                                      \n",
       "5  Добавить страницу отзывов клиентов о магазине, что позволит увеличить количество заказов                       \n",
       "4  Изменить цвет фона главной страницы, чтобы увеличить вовлеченность пользователей                               \n",
       "\n",
       "    RICE  \n",
       "7  112.0  \n",
       "2  56.0   \n",
       "0  40.0   \n",
       "6  40.0   \n",
       "8  16.2   \n",
       "3  9.0    \n",
       "1  4.0    \n",
       "5  4.0    \n",
       "4  3.0    "
      ]
     },
     "metadata": {},
     "output_type": "display_data"
    }
   ],
   "source": [
    "hypothesis['RICE']=(hypothesis['Reach']*hypothesis['Impact']*hypothesis['Confidence']/hypothesis['Efforts']).map('{:.3f}'.format).astype(float)\n",
    "display(hypothesis[['Hypothesis','RICE']].sort_values('RICE',ascending=False))"
   ]
  },
  {
   "cell_type": "markdown",
   "id": "234afbfe",
   "metadata": {},
   "source": [
    "### Укажите, как изменилась приоритизация гипотез при применении RICE вместо ICE. Объясните, почему так произошло."
   ]
  },
  {
   "cell_type": "markdown",
   "id": "5eab2462",
   "metadata": {},
   "source": [
    "Приоритет изменился, потому что добавился ещё один параметр - охват пользователей. На первое место вышли гипотезы (7 и 2), которые при прочих равных затронут большее количество пользователей."
   ]
  },
  {
   "cell_type": "markdown",
   "id": "9c50a5b0",
   "metadata": {},
   "source": [
    "## Часть 2. Анализ A/B-теста\n",
    "Вы провели A/B-тест и получили результаты, которые описаны в файлах /datasets/orders.csv и /datasets/visitors.csv.\n",
    "Проанализируйте A/B-тест:"
   ]
  },
  {
   "cell_type": "markdown",
   "id": "5d471b9e",
   "metadata": {},
   "source": [
    "### Постройте график кумулятивной выручки по группам. Сделайте выводы и предположения."
   ]
  },
  {
   "cell_type": "code",
   "execution_count": 11,
   "id": "73a50aa1",
   "metadata": {
    "scrolled": true
   },
   "outputs": [
    {
     "name": "stdout",
     "output_type": "stream",
     "text": [
      "        date group  orders  buyers  revenue  visitors\n",
      "0 2019-08-01  A     23      19      142779   719     \n",
      "1 2019-08-01  B     17      17      59758    713     \n",
      "2 2019-08-02  A     42      36      234381   1338    \n",
      "3 2019-08-02  B     40      39      221801   1294    \n",
      "4 2019-08-03  A     66      60      346854   1845    \n"
     ]
    }
   ],
   "source": [
    "datesGroups = orders[['date','group']].drop_duplicates()\n",
    "ordersAggregated = datesGroups.apply(lambda x: orders[np.logical_and(orders['date'] <= x['date'], orders['group'] == x['group'])]\\\n",
    ".agg({'date' : 'max', 'group' : 'max', 'transactionId' : 'nunique', 'visitorId' : 'nunique', 'revenue' : 'sum'}), axis=1).sort_values(by=['date','group'])\n",
    "visitorsAggregated = datesGroups.apply(lambda x: visitors[np.logical_and(visitors['date'] <= x['date'], visitors['group'] == x['group'])].agg({'date' : 'max', 'group' : 'max', 'visitors' : 'sum'}), axis=1).sort_values(by=['date','group'])\n",
    "cumulativeData = ordersAggregated.merge(visitorsAggregated, left_on=['date', 'group'], right_on=['date', 'group'])\n",
    "cumulativeData.columns = ['date', 'group', 'orders', 'buyers', 'revenue', 'visitors']\n",
    "print(cumulativeData.head(5))"
   ]
  },
  {
   "cell_type": "code",
   "execution_count": 12,
   "id": "b39cf41a",
   "metadata": {},
   "outputs": [
    {
     "data": {
      "image/png": "[encoded data removed]",
      "text/plain": [
       "<Figure size 1152x576 with 1 Axes>"
      ]
     },
     "metadata": {
      "needs_background": "light"
     },
     "output_type": "display_data"
    }
   ],
   "source": [
    "cumulativeRevenueA = cumulativeData[cumulativeData['group']=='A'][['date','revenue', 'orders']]\n",
    "cumulativeRevenueB = cumulativeData[cumulativeData['group']=='B'][['date','revenue', 'orders']]\n",
    "plt.figure(figsize=(16, 8))\n",
    "plt.plot(cumulativeRevenueA['date'], cumulativeRevenueA['revenue'], label='A')\n",
    "plt.plot(cumulativeRevenueB['date'], cumulativeRevenueB['revenue'], label='B')\n",
    "plt.title('График кумулятивной выручки по группам')\n",
    "plt.xlabel('Дата')\n",
    "plt.ylabel('Выручка')\n",
    "plt.xticks(rotation=45,size=8)\n",
    "plt.legend()\n",
    "plt.show()"
   ]
  },
  {
   "cell_type": "markdown",
   "id": "5dc9b728",
   "metadata": {},
   "source": [
    "Выручка обеих групп увеличивается равномерно за исключением резкого скачка в середине месяца у группы В."
   ]
  },
  {
   "cell_type": "markdown",
   "id": "1fab2300",
   "metadata": {},
   "source": [
    "В период 15-19 было совершено 2 аномально дорогих покупки."
   ]
  },
  {
   "cell_type": "markdown",
   "id": "dbc3aad1",
   "metadata": {},
   "source": [
    "### Постройте график кумулятивного среднего чека по группам. Сделайте выводы и предположения."
   ]
  },
  {
   "cell_type": "code",
   "execution_count": 13,
   "id": "8b3db386",
   "metadata": {},
   "outputs": [
    {
     "data": {
      "image/png": "[encoded data removed]",
      "text/plain": [
       "<Figure size 1152x576 with 1 Axes>"
      ]
     },
     "metadata": {
      "needs_background": "light"
     },
     "output_type": "display_data"
    }
   ],
   "source": [
    "plt.figure(figsize=(16, 8))\n",
    "plt.plot(cumulativeRevenueA['date'], cumulativeRevenueA['revenue']/cumulativeRevenueA['orders'], label='A')\n",
    "plt.plot(cumulativeRevenueB['date'], cumulativeRevenueB['revenue']/cumulativeRevenueB['orders'], label='B')\n",
    "plt.title('График кумулятивного среднего чека по группам')\n",
    "plt.xlabel('Дата')\n",
    "plt.ylabel('Средний чек')\n",
    "plt.xticks(rotation=45,size=8)\n",
    "plt.legend()\n",
    "plt.show()"
   ]
  },
  {
   "cell_type": "markdown",
   "id": "337f3e6e",
   "metadata": {},
   "source": [
    "Средний чек группы В больше за счет аномальных заказов."
   ]
  },
  {
   "cell_type": "markdown",
   "id": "4b82d94f",
   "metadata": {},
   "source": [
    "### Постройте график относительного изменения кумулятивного среднего чека группы B к группе A. Сделайте выводы и предположения."
   ]
  },
  {
   "cell_type": "code",
   "execution_count": 14,
   "id": "4bd5dfd1",
   "metadata": {},
   "outputs": [
    {
     "data": {
      "image/png": "[encoded data removed]",
      "text/plain": [
       "<Figure size 1152x576 with 1 Axes>"
      ]
     },
     "metadata": {
      "needs_background": "light"
     },
     "output_type": "display_data"
    }
   ],
   "source": [
    "mergedCumulativeRevenue = cumulativeRevenueA.merge(cumulativeRevenueB, left_on='date', right_on='date', how='left', suffixes=['A', 'B'])\n",
    "plt.figure(figsize=(16, 8))\n",
    "plt.plot(mergedCumulativeRevenue['date'], (mergedCumulativeRevenue['revenueB']/mergedCumulativeRevenue['ordersB'])/(mergedCumulativeRevenue['revenueA']/mergedCumulativeRevenue['ordersA'])-1)\n",
    "plt.axhline(y=0, color='black', linestyle='--')\n",
    "plt.title('График относительного изменения кумулятивного среднего чека группы B к группе A')\n",
    "plt.xlabel('Дата')\n",
    "plt.ylabel('Изменение среднего чека')\n",
    "plt.xticks(rotation=45,size=8)\n",
    "plt.show()"
   ]
  },
  {
   "cell_type": "markdown",
   "id": "0138834b",
   "metadata": {},
   "source": [
    "Средний чек группы В снижается в динамике после резкого увеличения."
   ]
  },
  {
   "cell_type": "markdown",
   "id": "78427186",
   "metadata": {},
   "source": [
    "### Постройте график кумулятивного среднего количества заказов на посетителя по группам. Сделайте выводы и предположения."
   ]
  },
  {
   "cell_type": "code",
   "execution_count": 15,
   "id": "2bf0e0a3",
   "metadata": {},
   "outputs": [
    {
     "data": {
      "image/png": "[encoded data removed]",
      "text/plain": [
       "<Figure size 1152x576 with 1 Axes>"
      ]
     },
     "metadata": {
      "needs_background": "light"
     },
     "output_type": "display_data"
    }
   ],
   "source": [
    "cumulativeData['conversion'] = cumulativeData['orders']/cumulativeData['visitors']\n",
    "cumulativeDataA = cumulativeData[cumulativeData['group']=='A']\n",
    "cumulativeDataB = cumulativeData[cumulativeData['group']=='B']\n",
    "plt.figure(figsize=(16, 8))\n",
    "plt.plot(cumulativeDataA['date'], cumulativeDataA['conversion'], label='A')\n",
    "plt.plot(cumulativeDataB['date'], cumulativeDataB['conversion'], label='B')\n",
    "plt.legend()\n",
    "plt.title('График кумулятивного среднего количества заказов на посетителя по группам')\n",
    "plt.xlabel('Дата')\n",
    "plt.ylabel('Среднее количество заказов')\n",
    "plt.xticks(rotation=45,size=8)\n",
    "plt.show()"
   ]
  },
  {
   "cell_type": "markdown",
   "id": "03ab92ad",
   "metadata": {},
   "source": [
    "Результаты за 2ю половину теста всё так же стабильны даже после исключения пересечений."
   ]
  },
  {
   "cell_type": "markdown",
   "id": "12e440b9",
   "metadata": {},
   "source": [
    "### Постройте график относительного изменения кумулятивного среднего количества заказов на посетителя группы B к группе A. Сделайте выводы и предположения."
   ]
  },
  {
   "cell_type": "code",
   "execution_count": 16,
   "id": "748ed9bd",
   "metadata": {},
   "outputs": [
    {
     "data": {
      "image/png": "[encoded data removed]",
      "text/plain": [
       "<Figure size 1152x576 with 1 Axes>"
      ]
     },
     "metadata": {
      "needs_background": "light"
     },
     "output_type": "display_data"
    }
   ],
   "source": [
    "mergedCumulativeConversions = cumulativeDataA[['date','conversion']].merge(cumulativeDataB[['date','conversion']], left_on='date', right_on='date', how='left', suffixes=['A', 'B'])\n",
    "plt.figure(figsize=(16, 8))\n",
    "plt.plot(mergedCumulativeConversions['date'], mergedCumulativeConversions['conversionB']/mergedCumulativeConversions['conversionA']-1, label=\"Относительный прирост конверсии группы B относительно группы A\")\n",
    "plt.axhline(y=0, color='black', linestyle='--')\n",
    "plt.title('График относительного изменения кумулятивного среднего количества заказов на посетителя группы B к группе A')\n",
    "plt.xlabel('Дата')\n",
    "plt.ylabel('Изменение кумулятивного среднего количества заказов')\n",
    "plt.xticks(rotation=45,size=8)\n",
    "plt.show()"
   ]
  },
  {
   "cell_type": "markdown",
   "id": "ea8001e9",
   "metadata": {},
   "source": [
    "Группа В стабильно держится лучше после исключения пересечений."
   ]
  },
  {
   "cell_type": "markdown",
   "id": "75e6a747",
   "metadata": {},
   "source": [
    "### Постройте точечный график количества заказов по пользователям. Сделайте выводы и предположения."
   ]
  },
  {
   "cell_type": "code",
   "execution_count": 17,
   "id": "ee36e632",
   "metadata": {},
   "outputs": [
    {
     "data": {
      "image/png": "[encoded data removed]",
      "text/plain": [
       "<Figure size 1152x576 with 1 Axes>"
      ]
     },
     "metadata": {
      "needs_background": "light"
     },
     "output_type": "display_data"
    }
   ],
   "source": [
    "ordersByUsers = (\n",
    "    orders.groupby('visitorId', as_index=False)\n",
    "    .agg({'transactionId': 'nunique'})\n",
    ")\n",
    "ordersByUsers.columns = ['userId', 'orders']\n",
    "plt.figure(figsize=(16, 8))\n",
    "plt.scatter(ordersByUsers['userId'], ordersByUsers['orders'])\n",
    "plt.title('График количества заказов по пользователям')\n",
    "plt.xlabel('Пользователь')\n",
    "plt.ylabel('Количество заказов')\n",
    "plt.xticks(rotation=45,size=8)\n",
    "plt.show()"
   ]
  },
  {
   "cell_type": "markdown",
   "id": "22f4f9d1",
   "metadata": {},
   "source": [
    "Судя по графику, после исключения пересечений только 7 пользователей сделали по 3 заказа (максимум), остальные делают по 1-2."
   ]
  },
  {
   "cell_type": "markdown",
   "id": "72c0ae3b",
   "metadata": {},
   "source": [
    "### Посчитайте 95-й и 99-й перцентили количества заказов на пользователя. Выберите границу для определения аномальных пользователей."
   ]
  },
  {
   "cell_type": "code",
   "execution_count": 18,
   "id": "3a7dafaf",
   "metadata": {},
   "outputs": [
    {
     "name": "stdout",
     "output_type": "stream",
     "text": [
      "[1. 2.]\n"
     ]
    }
   ],
   "source": [
    "print(np.percentile(ordersByUsers['orders'], [95, 99])) "
   ]
  },
  {
   "cell_type": "markdown",
   "id": "31666997",
   "metadata": {},
   "source": [
    "После удаления пересечений у 99% пользователей не более 2х заказов. Установим границу в 3 заказа."
   ]
  },
  {
   "cell_type": "markdown",
   "id": "ba21f177",
   "metadata": {},
   "source": [
    "### Постройте точечный график стоимостей заказов. Сделайте выводы и предположения."
   ]
  },
  {
   "cell_type": "code",
   "execution_count": 19,
   "id": "2f163c94",
   "metadata": {},
   "outputs": [
    {
     "data": {
      "image/png": "[encoded data removed]",
      "text/plain": [
       "<Figure size 1152x576 with 1 Axes>"
      ]
     },
     "metadata": {
      "needs_background": "light"
     },
     "output_type": "display_data"
    }
   ],
   "source": [
    "x_values = pd.Series((sorted(orders['date'])))\n",
    "plt.figure(figsize=(16, 8))\n",
    "plt.scatter(x_values, orders['revenue'])\n",
    "plt.title('График стоимостей заказов')\n",
    "plt.xlabel('Заказ')\n",
    "plt.ylabel('Стоимость')\n",
    "plt.xticks(rotation=45,size=8)\n",
    "plt.show()"
   ]
  },
  {
   "cell_type": "code",
   "execution_count": 20,
   "id": "50ec7a3d",
   "metadata": {},
   "outputs": [
    {
     "data": {
      "image/png": "[encoded data removed]",
      "text/plain": [
       "<Figure size 1152x576 with 1 Axes>"
      ]
     },
     "metadata": {
      "needs_background": "light"
     },
     "output_type": "display_data"
    }
   ],
   "source": [
    "plt.figure(figsize=(16, 8))\n",
    "plt.scatter(x_values, orders['revenue'])\n",
    "plt.title('График стоимостей заказов')\n",
    "plt.xlabel('Заказ')\n",
    "plt.ylabel('Стоимость')\n",
    "plt.ylim([0, 110000])\n",
    "plt.xticks(rotation=45,size=8)\n",
    "plt.show()"
   ]
  },
  {
   "cell_type": "markdown",
   "id": "1f1f4ce5",
   "metadata": {},
   "source": [
    "Стоимость заказов распределена равномерно."
   ]
  },
  {
   "cell_type": "markdown",
   "id": "2ae62ec9",
   "metadata": {},
   "source": [
    "### Посчитайте 95-й и 99-й перцентили стоимости заказов. Выберите границу для определения аномальных заказов."
   ]
  },
  {
   "cell_type": "code",
   "execution_count": 21,
   "id": "7253cc09",
   "metadata": {},
   "outputs": [
    {
     "name": "stdout",
     "output_type": "stream",
     "text": [
      "[26785. 53904.]\n"
     ]
    }
   ],
   "source": [
    "print(np.percentile(orders['revenue'], [95, 99])) "
   ]
  },
  {
   "cell_type": "markdown",
   "id": "10811ff5",
   "metadata": {},
   "source": [
    "Заказы 99% пользователей не превышают 54 тыс. Выберем в качестве границы 99й перцентиль."
   ]
  },
  {
   "cell_type": "markdown",
   "id": "452eb199",
   "metadata": {},
   "source": [
    "### Посчитайте статистическую значимость различий в среднем количестве заказов на посетителя между группами по «сырым» данным. Сделайте выводы и предположения."
   ]
  },
  {
   "cell_type": "markdown",
   "id": "8b41c7b2",
   "metadata": {},
   "source": [
    "Сформулируем гипотезы. Нулевая: различий в среднем количестве заказов между группами нет. Альтернативная: различия в среднем между группами есть. Критический уровень статистической значимости зададим 0.05, будем применять критерий Манна-Уитни."
   ]
  },
  {
   "cell_type": "code",
   "execution_count": 22,
   "id": "61461c2f",
   "metadata": {},
   "outputs": [],
   "source": [
    "visitorsADaily = visitors[visitors['group'] == 'A'][['date', 'visitors']]\n",
    "visitorsADaily.columns = ['date', 'visitorsPerDateA']\n",
    "\n",
    "visitorsACummulative = visitorsADaily.apply(\n",
    "    lambda x: visitorsADaily[visitorsADaily['date'] <= x['date']].agg(\n",
    "        {'date': 'max', 'visitorsPerDateA': 'sum'}\n",
    "    ),\n",
    "    axis=1,\n",
    ")\n",
    "visitorsACummulative.columns = ['date', 'visitorsCummulativeA']\n",
    "\n",
    "visitorsBDaily = visitors[visitors['group'] == 'B'][['date', 'visitors']]\n",
    "visitorsBDaily.columns = ['date', 'visitorsPerDateB']\n",
    "\n",
    "visitorsBCummulative = visitorsBDaily.apply(\n",
    "    lambda x: visitorsBDaily[visitorsBDaily['date'] <= x['date']].agg(\n",
    "        {'date': 'max', 'visitorsPerDateB': 'sum'}\n",
    "    ),\n",
    "    axis=1,\n",
    ")\n",
    "visitorsBCummulative.columns = ['date', 'visitorsCummulativeB']"
   ]
  },
  {
   "cell_type": "code",
   "execution_count": 23,
   "id": "89618ab7",
   "metadata": {},
   "outputs": [],
   "source": [
    "ordersADaily = (\n",
    "    orders[orders['group'] == 'A'][['date', 'transactionId', 'visitorId', 'revenue']]\n",
    "    .groupby('date', as_index=False)\n",
    "    .agg({'transactionId': pd.Series.nunique, 'revenue': 'sum'})\n",
    ")\n",
    "ordersADaily.columns = ['date', 'ordersPerDateA', 'revenuePerDateA']\n",
    "\n",
    "ordersACummulative = ordersADaily.apply(\n",
    "    lambda x: ordersADaily[ordersADaily['date'] <= x['date']].agg(\n",
    "        {'date': 'max', 'ordersPerDateA': 'sum', 'revenuePerDateA': 'sum'}\n",
    "    ),\n",
    "    axis=1,\n",
    ").sort_values(by=['date'])\n",
    "ordersACummulative.columns = [\n",
    "    'date',\n",
    "    'ordersCummulativeA',\n",
    "    'revenueCummulativeA',\n",
    "]\n",
    "\n",
    "ordersBDaily = (\n",
    "    orders[orders['group'] == 'B'][['date', 'transactionId', 'visitorId', 'revenue']]\n",
    "    .groupby('date', as_index=False)\n",
    "    .agg({'transactionId': pd.Series.nunique, 'revenue': 'sum'})\n",
    ")\n",
    "ordersBDaily.columns = ['date', 'ordersPerDateB', 'revenuePerDateB']\n",
    "\n",
    "ordersBCummulative = ordersBDaily.apply(\n",
    "    lambda x: ordersBDaily[ordersBDaily['date'] <= x['date']].agg(\n",
    "        {'date': 'max', 'ordersPerDateB': 'sum', 'revenuePerDateB': 'sum'}\n",
    "    ),\n",
    "    axis=1,\n",
    ").sort_values(by=['date'])\n",
    "ordersBCummulative.columns = [\n",
    "    'date',\n",
    "    'ordersCummulativeB',\n",
    "    'revenueCummulativeB',\n",
    "]"
   ]
  },
  {
   "cell_type": "code",
   "execution_count": 24,
   "id": "1aecb48e",
   "metadata": {},
   "outputs": [
    {
     "name": "stdout",
     "output_type": "stream",
     "text": [
      "0.011\n",
      "0.160\n"
     ]
    }
   ],
   "source": [
    "data = (\n",
    "    ordersADaily.merge(\n",
    "        ordersBDaily, left_on='date', right_on='date', how='left'\n",
    "    )\n",
    "    .merge(ordersACummulative, left_on='date', right_on='date', how='left')\n",
    "    .merge(ordersBCummulative, left_on='date', right_on='date', how='left')\n",
    "    .merge(visitorsADaily, left_on='date', right_on='date', how='left')\n",
    "    .merge(visitorsBDaily, left_on='date', right_on='date', how='left')\n",
    "    .merge(visitorsACummulative, left_on='date', right_on='date', how='left')\n",
    "    .merge(visitorsBCummulative, left_on='date', right_on='date', how='left')\n",
    ")\n",
    "\n",
    "ordersByUsersA = (\n",
    "    orders[orders['group'] == 'A']\n",
    "    .groupby('visitorId', as_index=False)\n",
    "    .agg({'transactionId': pd.Series.nunique})\n",
    ")\n",
    "ordersByUsersA.columns = ['userId', 'orders']\n",
    "\n",
    "ordersByUsersB = (\n",
    "    orders[orders['group'] == 'B']\n",
    "    .groupby('visitorId', as_index=False)\n",
    "    .agg({'transactionId': pd.Series.nunique})\n",
    ")\n",
    "ordersByUsersB.columns = ['userId', 'orders']\n",
    "\n",
    "sampleA = pd.concat([ordersByUsersA['orders'],pd.Series(0, index=np.arange(data['visitorsPerDateA'].sum() - len(ordersByUsersA['orders'])), name='orders')],axis=0)\n",
    "\n",
    "sampleB = pd.concat([ordersByUsersB['orders'],pd.Series(0, index=np.arange(data['visitorsPerDateB'].sum() - len(ordersByUsersB['orders'])), name='orders')],axis=0)\n",
    "\n",
    "print(\"{0:.3f}\".format(stats.mannwhitneyu(sampleA, sampleB)[1]))\n",
    "print(\"{0:.3f}\".format(sampleB.mean() / sampleA.mean() - 1))"
   ]
  },
  {
   "cell_type": "raw",
   "id": "91150885",
   "metadata": {},
   "source": [
    "visitorsACummulative = cumulativeData.query('group == \"A\"')[['date','visitors']].reset_index(drop=True)\n",
    "visitorsBCummulative = cumulativeData.query('group == \"B\"')[['date','visitors']].reset_index(drop=True)\n",
    "ordersACummulative = cumulativeData.query('group == \"A\"')[['date','orders','revenue']].reset_index(drop=True)\n",
    "ordersBCummulative = cumulativeData.query('group == \"B\"')[['date','orders','revenue']].reset_index(drop=True)"
   ]
  },
  {
   "cell_type": "markdown",
   "id": "952a83c3",
   "metadata": {},
   "source": [
    "Статистическая значимость меньше 0.05. Нулевую гипотезу отвергаем. У группы В прирост 16%."
   ]
  },
  {
   "cell_type": "markdown",
   "id": "ac98fbc1",
   "metadata": {},
   "source": [
    "### Посчитайте статистическую значимость различий в среднем чеке заказа между группами по «сырым» данным. Сделайте выводы и предположения."
   ]
  },
  {
   "cell_type": "markdown",
   "id": "63c826f1",
   "metadata": {},
   "source": [
    "Гипотезы. Нулевая: различий в среднем чеке заказа между группами нет. Альтернативная: различия в среднем чеке заказа между группами есть. Критический уровень статистической значимости зададим 0.05, будем применять критерий Манна-Уитни."
   ]
  },
  {
   "cell_type": "code",
   "execution_count": 25,
   "id": "7dab529d",
   "metadata": {},
   "outputs": [
    {
     "name": "stdout",
     "output_type": "stream",
     "text": [
      "0.829\n",
      "0.287\n"
     ]
    }
   ],
   "source": [
    "print('{0:.3f}'.format(stats.mannwhitneyu(orders[orders['group']=='A']['revenue'], orders[orders['group']=='B']['revenue'])[1]))\n",
    "print('{0:.3f}'.format(orders[orders['group']=='B']['revenue'].mean()/orders[orders['group']=='A']['revenue'].mean()-1))"
   ]
  },
  {
   "cell_type": "markdown",
   "id": "53cbbb21",
   "metadata": {},
   "source": [
    "Статистическая значимость больше 0.05. Нулевую гипотезу не отвергаем. Сердний чек группы В больше на 28%."
   ]
  },
  {
   "cell_type": "markdown",
   "id": "adecefe2",
   "metadata": {},
   "source": [
    "### Посчитайте статистическую значимость различий в среднем количестве заказов на посетителя между группами по «очищенным» данным. Сделайте выводы и предположения."
   ]
  },
  {
   "cell_type": "markdown",
   "id": "7b9f53b2",
   "metadata": {},
   "source": [
    "Гипотезы. Нулевая: различий в среднем количестве заказов между группами нет. Альтернативная: различия в среднем между группами есть. Критический уровень статистической значимости зададим 0.05, будем применять критерий Манна-Уитни."
   ]
  },
  {
   "cell_type": "code",
   "execution_count": 26,
   "id": "2419b6a5",
   "metadata": {},
   "outputs": [
    {
     "name": "stdout",
     "output_type": "stream",
     "text": [
      "0.007\n",
      "0.189\n"
     ]
    }
   ],
   "source": [
    "usersWithManyOrders = pd.concat(\n",
    "    [\n",
    "        ordersByUsersA[ordersByUsersA['orders'] > int(np.percentile(ordersByUsers['orders'], [99]))]['userId'],\n",
    "        ordersByUsersB[ordersByUsersB['orders'] > int(np.percentile(ordersByUsers['orders'], [99]))]['userId'],\n",
    "    ],\n",
    "    axis=0,\n",
    ")\n",
    "usersWithExpensiveOrders = orders[orders['revenue'] > int(np.percentile(orders['revenue'], [99]))]['visitorId']\n",
    "abnormalUsers = (\n",
    "    pd.concat([usersWithManyOrders, usersWithExpensiveOrders], axis=0)\n",
    "    .drop_duplicates()\n",
    "    .sort_values()\n",
    ")\n",
    "sampleAFiltered = pd.concat(\n",
    "    [\n",
    "        ordersByUsersA[\n",
    "            np.logical_not(ordersByUsersA['userId'].isin(abnormalUsers))\n",
    "        ]['orders'],\n",
    "        pd.Series(\n",
    "            0,\n",
    "            index=np.arange(\n",
    "                data['visitorsPerDateA'].sum() - len(ordersByUsersA['orders'])\n",
    "            ),\n",
    "            name='orders',\n",
    "        ),\n",
    "    ],\n",
    "    axis=0,\n",
    ")\n",
    "sampleBFiltered = pd.concat(\n",
    "    [\n",
    "        ordersByUsersB[\n",
    "            np.logical_not(ordersByUsersB['userId'].isin(abnormalUsers))\n",
    "        ]['orders'],\n",
    "        pd.Series(\n",
    "            0,\n",
    "            index=np.arange(\n",
    "                data['visitorsPerDateB'].sum() - len(ordersByUsersB['orders'])\n",
    "            ),\n",
    "            name='orders',\n",
    "        ),\n",
    "    ],\n",
    "    axis=0,\n",
    ")\n",
    "print('{0:.3f}'.format(stats.mannwhitneyu(sampleAFiltered, sampleBFiltered)[1]))\n",
    "print('{0:.3f}'.format(sampleBFiltered.mean()/sampleAFiltered.mean()-1))"
   ]
  },
  {
   "cell_type": "markdown",
   "id": "546d2b97",
   "metadata": {},
   "source": [
    "По очищенным данным статистическая значимость также меньше 0.05. Нулевую гипотезу отвергаем. У группы В прирост почти 19%."
   ]
  },
  {
   "cell_type": "markdown",
   "id": "fb14315d",
   "metadata": {},
   "source": [
    "### Посчитайте статистическую значимость различий в среднем чеке заказа между группами по «очищенным» данным. Сделайте выводы и предположения."
   ]
  },
  {
   "cell_type": "markdown",
   "id": "faefc837",
   "metadata": {},
   "source": [
    "Гипотезы. Нулевая: различий в среднем чеке заказа между группами нет. Альтернативная: различия в среднем чеке заказа между группами есть. Критический уровень статистической значимости зададим 0.05, будем применять критерий Манна-Уитни."
   ]
  },
  {
   "cell_type": "code",
   "execution_count": 27,
   "id": "e8f2894a",
   "metadata": {},
   "outputs": [
    {
     "name": "stdout",
     "output_type": "stream",
     "text": [
      "0.788\n"
     ]
    }
   ],
   "source": [
    "print(\n",
    "    '{0:.3f}'.format(\n",
    "        stats.mannwhitneyu(\n",
    "            orders[\n",
    "                np.logical_and(\n",
    "                    orders['group'] == 'A',\n",
    "                    np.logical_not(orders['visitorId'].isin(abnormalUsers)),\n",
    "                )\n",
    "            ]['revenue'],\n",
    "            orders[\n",
    "                np.logical_and(\n",
    "                    orders['group'] == 'B',\n",
    "                    np.logical_not(orders['visitorId'].isin(abnormalUsers)),\n",
    "                )\n",
    "            ]['revenue'],\n",
    "        )[1]\n",
    "    )\n",
    ")"
   ]
  },
  {
   "cell_type": "code",
   "execution_count": 28,
   "id": "df3fe404",
   "metadata": {},
   "outputs": [
    {
     "name": "stdout",
     "output_type": "stream",
     "text": [
      "-0.032\n"
     ]
    }
   ],
   "source": [
    "print(\n",
    "    \"{0:.3f}\".format(\n",
    "        orders[\n",
    "            np.logical_and(\n",
    "                orders['group'] == 'B',\n",
    "                np.logical_not(orders['visitorId'].isin(abnormalUsers)),\n",
    "            )\n",
    "        ]['revenue'].mean()\n",
    "        / orders[\n",
    "            np.logical_and(\n",
    "                orders['group'] == 'A',\n",
    "                np.logical_not(orders['visitorId'].isin(abnormalUsers)),\n",
    "            )\n",
    "        ]['revenue'].mean()\n",
    "        - 1\n",
    "    )\n",
    ") "
   ]
  },
  {
   "cell_type": "markdown",
   "id": "ca44e0ce",
   "metadata": {},
   "source": [
    "По очищенным данным статистическая значимость также больше 0.05. Нулевую гипотезу не отвергаем. Различия между группами изменились: средний чек группы В теперь меньше на 3%."
   ]
  },
  {
   "cell_type": "markdown",
   "id": "db979e03",
   "metadata": {},
   "source": [
    "### Примите решение по результатам теста и объясните его. Варианты решений:\n",
    "1. Остановить тест, зафиксировать победу одной из групп.\n",
    "2. Остановить тест, зафиксировать отсутствие различий между группами.\n",
    "3. Продолжить тест."
   ]
  },
  {
   "cell_type": "markdown",
   "id": "e60e1473",
   "metadata": {},
   "source": [
    "В приоритезации гипотез, руководствовался методом RICE, так как был параметр \"охват\" (и его значения для разных гипотез сильно отличались), потому что это немаловажный параметр. Наиболее приоритетная гипотеза, на мой взгляд - номер 7.\n",
    "\n",
    "По результатам теста я вижу следующее:\n",
    "1. Судя по графикам, пользователи группы В спустя 2 недели делают в среднем больше заказов, чем пользователи группы А.\n",
    "2. Статистическая значимость подтверждает различие в среднем кол-ве заказов между группами.\n",
    "3. Различий в среднем чеке между группами, опять же судя по статистической значимости - нет.\n",
    "\n",
    "На основе этих наблюдений считаю, проведение теста можно остановить, зафиксировав победу группы В.\n",
    "\n",
    "UPD\n",
    "Без учета аномальных заказов меняется средний чек по группам (в группе А он больше). Но за счёт количества заказов группа В всё равно к концу месяца обгоняет группу А по выручке на 19%"
   ]
  }
 ],
 "metadata": {
  "ExecuteTimeLog": [
   {
    "duration": 450,
    "start_time": "2023-05-16T09:20:11.071Z"
   },
   {
    "duration": 214,
    "start_time": "2023-05-16T09:20:11.525Z"
   },
   {
    "duration": 22,
    "start_time": "2023-05-16T09:20:11.741Z"
   },
   {
    "duration": 35,
    "start_time": "2023-05-16T09:20:11.766Z"
   },
   {
    "duration": 22,
    "start_time": "2023-05-16T09:20:11.803Z"
   },
   {
    "duration": 10,
    "start_time": "2023-05-16T09:20:11.827Z"
   },
   {
    "duration": 7,
    "start_time": "2023-05-16T09:20:11.839Z"
   },
   {
    "duration": 761,
    "start_time": "2023-05-16T09:20:11.848Z"
   },
   {
    "duration": 324,
    "start_time": "2023-05-16T09:20:12.611Z"
   },
   {
    "duration": 316,
    "start_time": "2023-05-16T09:20:12.938Z"
   },
   {
    "duration": 301,
    "start_time": "2023-05-16T09:20:13.256Z"
   },
   {
    "duration": 381,
    "start_time": "2023-05-16T09:20:13.559Z"
   },
   {
    "duration": 348,
    "start_time": "2023-05-16T09:20:13.942Z"
   },
   {
    "duration": 362,
    "start_time": "2023-05-16T09:20:14.294Z"
   },
   {
    "duration": 165,
    "start_time": "2023-05-16T09:20:14.657Z"
   },
   {
    "duration": 4,
    "start_time": "2023-05-16T09:20:14.825Z"
   },
   {
    "duration": 176,
    "start_time": "2023-05-16T09:20:14.831Z"
   },
   {
    "duration": 6,
    "start_time": "2023-05-16T09:20:15.009Z"
   },
   {
    "duration": 390,
    "start_time": "2023-05-16T09:20:15.017Z"
   },
   {
    "duration": 11,
    "start_time": "2023-05-16T09:20:15.409Z"
   },
   {
    "duration": 31,
    "start_time": "2023-05-16T09:20:15.426Z"
   },
   {
    "duration": 33,
    "start_time": "2023-05-16T09:20:15.458Z"
   },
   {
    "duration": 433,
    "start_time": "2023-05-16T09:20:34.616Z"
   },
   {
    "duration": 195,
    "start_time": "2023-05-16T09:20:35.051Z"
   },
   {
    "duration": 21,
    "start_time": "2023-05-16T09:20:35.248Z"
   },
   {
    "duration": 44,
    "start_time": "2023-05-16T09:20:35.270Z"
   },
   {
    "duration": 16,
    "start_time": "2023-05-16T09:20:35.319Z"
   },
   {
    "duration": 8,
    "start_time": "2023-05-16T09:20:35.337Z"
   },
   {
    "duration": 19,
    "start_time": "2023-05-16T09:20:35.347Z"
   },
   {
    "duration": 800,
    "start_time": "2023-05-16T09:20:35.368Z"
   },
   {
    "duration": 282,
    "start_time": "2023-05-16T09:20:36.169Z"
   },
   {
    "duration": 293,
    "start_time": "2023-05-16T09:20:36.453Z"
   },
   {
    "duration": 301,
    "start_time": "2023-05-16T09:20:36.748Z"
   },
   {
    "duration": 389,
    "start_time": "2023-05-16T09:20:37.051Z"
   },
   {
    "duration": 314,
    "start_time": "2023-05-16T09:20:37.442Z"
   },
   {
    "duration": 421,
    "start_time": "2023-05-16T09:20:37.758Z"
   },
   {
    "duration": 139,
    "start_time": "2023-05-16T09:20:38.180Z"
   },
   {
    "duration": 4,
    "start_time": "2023-05-16T09:20:38.324Z"
   },
   {
    "duration": 152,
    "start_time": "2023-05-16T09:20:38.330Z"
   },
   {
    "duration": 5,
    "start_time": "2023-05-16T09:20:38.484Z"
   },
   {
    "duration": 420,
    "start_time": "2023-05-16T09:20:38.491Z"
   },
   {
    "duration": 9,
    "start_time": "2023-05-16T09:20:38.913Z"
   },
   {
    "duration": 38,
    "start_time": "2023-05-16T09:20:38.924Z"
   },
   {
    "duration": 27,
    "start_time": "2023-05-16T09:20:38.964Z"
   },
   {
    "duration": 1248,
    "start_time": "2023-05-19T11:53:20.956Z"
   },
   {
    "duration": 250,
    "start_time": "2023-05-19T11:53:22.207Z"
   },
   {
    "duration": 32,
    "start_time": "2023-05-19T11:53:22.459Z"
   },
   {
    "duration": 35,
    "start_time": "2023-05-19T11:53:22.494Z"
   },
   {
    "duration": 28,
    "start_time": "2023-05-19T11:53:22.531Z"
   },
   {
    "duration": 22,
    "start_time": "2023-05-19T11:53:22.562Z"
   },
   {
    "duration": 16,
    "start_time": "2023-05-19T11:53:22.585Z"
   },
   {
    "duration": 14,
    "start_time": "2023-05-19T11:53:22.603Z"
   },
   {
    "duration": 38,
    "start_time": "2023-05-19T11:53:22.619Z"
   },
   {
    "duration": 268,
    "start_time": "2023-05-19T11:53:22.661Z"
   },
   {
    "duration": 296,
    "start_time": "2023-05-19T11:53:22.931Z"
   },
   {
    "duration": 276,
    "start_time": "2023-05-19T11:53:23.229Z"
   },
   {
    "duration": 453,
    "start_time": "2023-05-19T11:53:23.506Z"
   },
   {
    "duration": 333,
    "start_time": "2023-05-19T11:53:23.960Z"
   },
   {
    "duration": 376,
    "start_time": "2023-05-19T11:53:24.295Z"
   },
   {
    "duration": 143,
    "start_time": "2023-05-19T11:53:24.673Z"
   },
   {
    "duration": 4,
    "start_time": "2023-05-19T11:53:24.817Z"
   },
   {
    "duration": 250,
    "start_time": "2023-05-19T11:53:24.823Z"
   },
   {
    "duration": 249,
    "start_time": "2023-05-19T11:53:25.075Z"
   },
   {
    "duration": 3,
    "start_time": "2023-05-19T11:53:25.326Z"
   },
   {
    "duration": 93,
    "start_time": "2023-05-19T11:53:25.331Z"
   },
   {
    "duration": 127,
    "start_time": "2023-05-19T11:53:25.426Z"
   },
   {
    "duration": 151,
    "start_time": "2023-05-19T11:53:25.555Z"
   },
   {
    "duration": 11,
    "start_time": "2023-05-19T11:53:25.707Z"
   },
   {
    "duration": 46,
    "start_time": "2023-05-19T11:53:25.719Z"
   },
   {
    "duration": 10,
    "start_time": "2023-05-19T11:53:25.767Z"
   },
   {
    "duration": 6,
    "start_time": "2023-05-19T11:53:25.779Z"
   },
   {
    "duration": 1157,
    "start_time": "2023-05-19T11:59:59.855Z"
   },
   {
    "duration": 116,
    "start_time": "2023-05-19T12:00:01.014Z"
   },
   {
    "duration": 33,
    "start_time": "2023-05-19T12:00:01.131Z"
   },
   {
    "duration": 97,
    "start_time": "2023-05-19T12:00:01.166Z"
   },
   {
    "duration": 52,
    "start_time": "2023-05-19T12:00:01.266Z"
   },
   {
    "duration": 85,
    "start_time": "2023-05-19T12:00:01.320Z"
   },
   {
    "duration": 117,
    "start_time": "2023-05-19T12:00:01.406Z"
   },
   {
    "duration": 34,
    "start_time": "2023-05-19T12:00:01.525Z"
   },
   {
    "duration": 53,
    "start_time": "2023-05-19T12:00:01.560Z"
   },
   {
    "duration": 339,
    "start_time": "2023-05-19T12:00:01.615Z"
   },
   {
    "duration": 309,
    "start_time": "2023-05-19T12:00:01.955Z"
   },
   {
    "duration": 306,
    "start_time": "2023-05-19T12:00:02.266Z"
   },
   {
    "duration": 378,
    "start_time": "2023-05-19T12:00:02.574Z"
   },
   {
    "duration": 289,
    "start_time": "2023-05-19T12:00:02.955Z"
   },
   {
    "duration": 383,
    "start_time": "2023-05-19T12:00:03.245Z"
   },
   {
    "duration": 150,
    "start_time": "2023-05-19T12:00:03.629Z"
   },
   {
    "duration": 5,
    "start_time": "2023-05-19T12:00:03.781Z"
   },
   {
    "duration": 286,
    "start_time": "2023-05-19T12:00:03.787Z"
   },
   {
    "duration": 307,
    "start_time": "2023-05-19T12:00:04.075Z"
   },
   {
    "duration": 5,
    "start_time": "2023-05-19T12:00:04.384Z"
   },
   {
    "duration": 127,
    "start_time": "2023-05-19T12:00:04.391Z"
   },
   {
    "duration": 118,
    "start_time": "2023-05-19T12:00:04.520Z"
   },
   {
    "duration": 150,
    "start_time": "2023-05-19T12:00:04.640Z"
   },
   {
    "duration": 9,
    "start_time": "2023-05-19T12:00:04.792Z"
   },
   {
    "duration": 40,
    "start_time": "2023-05-19T12:00:04.802Z"
   },
   {
    "duration": 13,
    "start_time": "2023-05-19T12:00:04.858Z"
   },
   {
    "duration": 26,
    "start_time": "2023-05-19T12:00:04.873Z"
   },
   {
    "duration": 1125,
    "start_time": "2023-05-19T12:18:45.945Z"
   },
   {
    "duration": 118,
    "start_time": "2023-05-19T12:18:47.072Z"
   },
   {
    "duration": 20,
    "start_time": "2023-05-19T12:18:47.192Z"
   },
   {
    "duration": 20,
    "start_time": "2023-05-19T12:18:47.214Z"
   },
   {
    "duration": 12,
    "start_time": "2023-05-19T12:18:47.235Z"
   },
   {
    "duration": 22,
    "start_time": "2023-05-19T12:18:47.249Z"
   },
   {
    "duration": 16,
    "start_time": "2023-05-19T12:18:47.273Z"
   },
   {
    "duration": 17,
    "start_time": "2023-05-19T12:18:47.290Z"
   },
   {
    "duration": 18,
    "start_time": "2023-05-19T12:18:47.308Z"
   },
   {
    "duration": 270,
    "start_time": "2023-05-19T12:18:47.328Z"
   },
   {
    "duration": 275,
    "start_time": "2023-05-19T12:18:47.599Z"
   },
   {
    "duration": 274,
    "start_time": "2023-05-19T12:18:47.876Z"
   },
   {
    "duration": 394,
    "start_time": "2023-05-19T12:18:48.152Z"
   },
   {
    "duration": 283,
    "start_time": "2023-05-19T12:18:48.550Z"
   },
   {
    "duration": 390,
    "start_time": "2023-05-19T12:18:48.834Z"
   },
   {
    "duration": 144,
    "start_time": "2023-05-19T12:18:49.226Z"
   },
   {
    "duration": 4,
    "start_time": "2023-05-19T12:18:49.372Z"
   },
   {
    "duration": 247,
    "start_time": "2023-05-19T12:18:49.378Z"
   },
   {
    "duration": 246,
    "start_time": "2023-05-19T12:18:49.627Z"
   },
   {
    "duration": 4,
    "start_time": "2023-05-19T12:18:49.875Z"
   },
   {
    "duration": 93,
    "start_time": "2023-05-19T12:18:49.880Z"
   },
   {
    "duration": 118,
    "start_time": "2023-05-19T12:18:49.975Z"
   },
   {
    "duration": 157,
    "start_time": "2023-05-19T12:18:50.095Z"
   },
   {
    "duration": 10,
    "start_time": "2023-05-19T12:18:50.253Z"
   },
   {
    "duration": 33,
    "start_time": "2023-05-19T12:18:50.264Z"
   },
   {
    "duration": 10,
    "start_time": "2023-05-19T12:18:50.298Z"
   },
   {
    "duration": 7,
    "start_time": "2023-05-19T12:18:50.309Z"
   },
   {
    "duration": 1114,
    "start_time": "2023-05-19T12:28:09.602Z"
   },
   {
    "duration": 114,
    "start_time": "2023-05-19T12:28:10.718Z"
   },
   {
    "duration": 22,
    "start_time": "2023-05-19T12:28:10.833Z"
   },
   {
    "duration": 25,
    "start_time": "2023-05-19T12:28:10.857Z"
   },
   {
    "duration": 15,
    "start_time": "2023-05-19T12:28:10.884Z"
   },
   {
    "duration": 52,
    "start_time": "2023-05-19T12:28:10.900Z"
   },
   {
    "duration": 25,
    "start_time": "2023-05-19T12:28:10.954Z"
   },
   {
    "duration": 16,
    "start_time": "2023-05-19T12:28:10.982Z"
   },
   {
    "duration": 15,
    "start_time": "2023-05-19T12:28:11.000Z"
   },
   {
    "duration": 291,
    "start_time": "2023-05-19T12:28:11.017Z"
   },
   {
    "duration": 304,
    "start_time": "2023-05-19T12:28:11.310Z"
   },
   {
    "duration": 295,
    "start_time": "2023-05-19T12:28:11.615Z"
   },
   {
    "duration": 410,
    "start_time": "2023-05-19T12:28:11.912Z"
   },
   {
    "duration": 315,
    "start_time": "2023-05-19T12:28:12.325Z"
   },
   {
    "duration": 403,
    "start_time": "2023-05-19T12:28:12.641Z"
   },
   {
    "duration": 149,
    "start_time": "2023-05-19T12:28:13.045Z"
   },
   {
    "duration": 4,
    "start_time": "2023-05-19T12:28:13.196Z"
   },
   {
    "duration": 267,
    "start_time": "2023-05-19T12:28:13.202Z"
   },
   {
    "duration": 253,
    "start_time": "2023-05-19T12:28:13.471Z"
   },
   {
    "duration": 4,
    "start_time": "2023-05-19T12:28:13.726Z"
   },
   {
    "duration": 94,
    "start_time": "2023-05-19T12:28:13.732Z"
   },
   {
    "duration": 122,
    "start_time": "2023-05-19T12:28:13.828Z"
   },
   {
    "duration": 235,
    "start_time": "2023-05-19T12:28:13.952Z"
   },
   {
    "duration": 14,
    "start_time": "2023-05-19T12:28:14.189Z"
   },
   {
    "duration": 67,
    "start_time": "2023-05-19T12:28:14.205Z"
   },
   {
    "duration": 10,
    "start_time": "2023-05-19T12:28:14.275Z"
   },
   {
    "duration": 8,
    "start_time": "2023-05-19T12:28:14.286Z"
   },
   {
    "duration": 1228,
    "start_time": "2023-05-19T17:25:58.793Z"
   },
   {
    "duration": 288,
    "start_time": "2023-05-19T17:26:00.023Z"
   },
   {
    "duration": 23,
    "start_time": "2023-05-19T17:26:00.312Z"
   },
   {
    "duration": 27,
    "start_time": "2023-05-19T17:26:00.337Z"
   },
   {
    "duration": 18,
    "start_time": "2023-05-19T17:26:00.366Z"
   },
   {
    "duration": 45,
    "start_time": "2023-05-19T17:26:00.386Z"
   },
   {
    "duration": 24,
    "start_time": "2023-05-19T17:26:00.433Z"
   },
   {
    "duration": 59,
    "start_time": "2023-05-19T17:26:00.459Z"
   },
   {
    "duration": 42,
    "start_time": "2023-05-19T17:26:00.519Z"
   },
   {
    "duration": 45,
    "start_time": "2023-05-19T17:26:00.564Z"
   },
   {
    "duration": 300,
    "start_time": "2023-05-19T17:26:00.610Z"
   },
   {
    "duration": 282,
    "start_time": "2023-05-19T17:26:00.911Z"
   },
   {
    "duration": 215,
    "start_time": "2023-05-19T17:26:01.195Z"
   },
   {
    "duration": 339,
    "start_time": "2023-05-19T17:26:01.412Z"
   },
   {
    "duration": 232,
    "start_time": "2023-05-19T17:26:01.753Z"
   },
   {
    "duration": 312,
    "start_time": "2023-05-19T17:26:01.988Z"
   },
   {
    "duration": 165,
    "start_time": "2023-05-19T17:26:02.301Z"
   },
   {
    "duration": 10,
    "start_time": "2023-05-19T17:26:02.467Z"
   },
   {
    "duration": 191,
    "start_time": "2023-05-19T17:26:02.478Z"
   },
   {
    "duration": 300,
    "start_time": "2023-05-19T17:26:02.675Z"
   },
   {
    "duration": 4,
    "start_time": "2023-05-19T17:26:02.977Z"
   },
   {
    "duration": 317,
    "start_time": "2023-05-19T17:26:02.982Z"
   },
   {
    "duration": 216,
    "start_time": "2023-05-19T17:26:03.300Z"
   },
   {
    "duration": 358,
    "start_time": "2023-05-19T17:26:03.518Z"
   },
   {
    "duration": 10,
    "start_time": "2023-05-19T17:26:03.877Z"
   },
   {
    "duration": 33,
    "start_time": "2023-05-19T17:26:03.889Z"
   },
   {
    "duration": 13,
    "start_time": "2023-05-19T17:26:03.976Z"
   },
   {
    "duration": 10,
    "start_time": "2023-05-19T17:26:03.993Z"
   },
   {
    "duration": 411,
    "start_time": "2023-05-19T17:26:41.485Z"
   },
   {
    "duration": 1017,
    "start_time": "2023-05-19T17:26:48.230Z"
   },
   {
    "duration": 120,
    "start_time": "2023-05-19T17:26:49.249Z"
   },
   {
    "duration": 18,
    "start_time": "2023-05-19T17:26:49.371Z"
   },
   {
    "duration": 20,
    "start_time": "2023-05-19T17:26:49.391Z"
   },
   {
    "duration": 9,
    "start_time": "2023-05-19T17:26:49.413Z"
   },
   {
    "duration": 21,
    "start_time": "2023-05-19T17:26:49.423Z"
   },
   {
    "duration": 43,
    "start_time": "2023-05-19T17:26:49.446Z"
   },
   {
    "duration": 32,
    "start_time": "2023-05-19T17:26:49.491Z"
   },
   {
    "duration": 11,
    "start_time": "2023-05-19T17:26:49.525Z"
   },
   {
    "duration": 13,
    "start_time": "2023-05-19T17:26:49.539Z"
   },
   {
    "duration": 277,
    "start_time": "2023-05-19T17:26:49.553Z"
   },
   {
    "duration": 297,
    "start_time": "2023-05-19T17:26:49.832Z"
   },
   {
    "duration": 219,
    "start_time": "2023-05-19T17:26:50.131Z"
   },
   {
    "duration": 532,
    "start_time": "2023-05-19T17:26:50.352Z"
   },
   {
    "duration": 490,
    "start_time": "2023-05-19T17:26:50.885Z"
   },
   {
    "duration": 517,
    "start_time": "2023-05-19T17:26:51.377Z"
   },
   {
    "duration": 322,
    "start_time": "2023-05-19T17:26:51.896Z"
   },
   {
    "duration": 58,
    "start_time": "2023-05-19T17:26:52.220Z"
   },
   {
    "duration": 195,
    "start_time": "2023-05-19T17:26:52.280Z"
   },
   {
    "duration": 192,
    "start_time": "2023-05-19T17:26:52.476Z"
   },
   {
    "duration": 4,
    "start_time": "2023-05-19T17:26:52.674Z"
   },
   {
    "duration": 173,
    "start_time": "2023-05-19T17:26:52.680Z"
   },
   {
    "duration": 114,
    "start_time": "2023-05-19T17:26:52.854Z"
   },
   {
    "duration": 163,
    "start_time": "2023-05-19T17:26:52.975Z"
   },
   {
    "duration": 11,
    "start_time": "2023-05-19T17:26:53.139Z"
   },
   {
    "duration": 52,
    "start_time": "2023-05-19T17:26:53.151Z"
   },
   {
    "duration": 10,
    "start_time": "2023-05-19T17:26:53.204Z"
   },
   {
    "duration": 7,
    "start_time": "2023-05-19T17:26:53.217Z"
   },
   {
    "duration": 225,
    "start_time": "2023-05-19T17:27:25.176Z"
   },
   {
    "duration": 1038,
    "start_time": "2023-05-19T17:28:15.584Z"
   },
   {
    "duration": 112,
    "start_time": "2023-05-19T17:28:16.624Z"
   },
   {
    "duration": 17,
    "start_time": "2023-05-19T17:28:16.738Z"
   },
   {
    "duration": 20,
    "start_time": "2023-05-19T17:28:16.757Z"
   },
   {
    "duration": 8,
    "start_time": "2023-05-19T17:28:16.778Z"
   },
   {
    "duration": 20,
    "start_time": "2023-05-19T17:28:16.787Z"
   },
   {
    "duration": 16,
    "start_time": "2023-05-19T17:28:16.809Z"
   },
   {
    "duration": 17,
    "start_time": "2023-05-19T17:28:16.827Z"
   },
   {
    "duration": 40,
    "start_time": "2023-05-19T17:28:16.845Z"
   },
   {
    "duration": 11,
    "start_time": "2023-05-19T17:28:16.887Z"
   },
   {
    "duration": 277,
    "start_time": "2023-05-19T17:28:16.900Z"
   },
   {
    "duration": 302,
    "start_time": "2023-05-19T17:28:17.179Z"
   },
   {
    "duration": 236,
    "start_time": "2023-05-19T17:28:17.483Z"
   },
   {
    "duration": 308,
    "start_time": "2023-05-19T17:28:17.721Z"
   },
   {
    "duration": 247,
    "start_time": "2023-05-19T17:28:18.030Z"
   },
   {
    "duration": 336,
    "start_time": "2023-05-19T17:28:18.279Z"
   },
   {
    "duration": 172,
    "start_time": "2023-05-19T17:28:18.616Z"
   },
   {
    "duration": 5,
    "start_time": "2023-05-19T17:28:18.790Z"
   },
   {
    "duration": 210,
    "start_time": "2023-05-19T17:28:18.796Z"
   },
   {
    "duration": 214,
    "start_time": "2023-05-19T17:28:19.008Z"
   },
   {
    "duration": 5,
    "start_time": "2023-05-19T17:28:19.224Z"
   },
   {
    "duration": 185,
    "start_time": "2023-05-19T17:28:19.231Z"
   },
   {
    "duration": 115,
    "start_time": "2023-05-19T17:28:19.418Z"
   },
   {
    "duration": 164,
    "start_time": "2023-05-19T17:28:19.535Z"
   },
   {
    "duration": 11,
    "start_time": "2023-05-19T17:28:19.701Z"
   },
   {
    "duration": 32,
    "start_time": "2023-05-19T17:28:19.714Z"
   },
   {
    "duration": 32,
    "start_time": "2023-05-19T17:28:19.749Z"
   },
   {
    "duration": 8,
    "start_time": "2023-05-19T17:28:19.784Z"
   },
   {
    "duration": 100,
    "start_time": "2023-05-19T17:29:41.233Z"
   },
   {
    "duration": 1267,
    "start_time": "2023-05-20T08:32:10.640Z"
   },
   {
    "duration": 142,
    "start_time": "2023-05-20T08:32:11.910Z"
   },
   {
    "duration": 18,
    "start_time": "2023-05-20T08:32:12.054Z"
   },
   {
    "duration": 49,
    "start_time": "2023-05-20T08:32:12.074Z"
   },
   {
    "duration": 38,
    "start_time": "2023-05-20T08:32:12.127Z"
   },
   {
    "duration": 38,
    "start_time": "2023-05-20T08:32:12.167Z"
   },
   {
    "duration": 20,
    "start_time": "2023-05-20T08:32:12.206Z"
   },
   {
    "duration": 44,
    "start_time": "2023-05-20T08:32:12.233Z"
   },
   {
    "duration": 14,
    "start_time": "2023-05-20T08:32:12.278Z"
   },
   {
    "duration": 16,
    "start_time": "2023-05-20T08:32:12.295Z"
   },
   {
    "duration": 313,
    "start_time": "2023-05-20T08:32:12.313Z"
   },
   {
    "duration": 349,
    "start_time": "2023-05-20T08:32:12.628Z"
   },
   {
    "duration": 282,
    "start_time": "2023-05-20T08:32:12.979Z"
   },
   {
    "duration": 351,
    "start_time": "2023-05-20T08:32:13.263Z"
   },
   {
    "duration": 286,
    "start_time": "2023-05-20T08:32:13.626Z"
   },
   {
    "duration": 374,
    "start_time": "2023-05-20T08:32:13.914Z"
   },
   {
    "duration": 227,
    "start_time": "2023-05-20T08:32:14.290Z"
   },
   {
    "duration": 13,
    "start_time": "2023-05-20T08:32:14.519Z"
   },
   {
    "duration": 259,
    "start_time": "2023-05-20T08:32:14.535Z"
   },
   {
    "duration": 279,
    "start_time": "2023-05-20T08:32:14.796Z"
   },
   {
    "duration": 5,
    "start_time": "2023-05-20T08:32:15.078Z"
   },
   {
    "duration": 202,
    "start_time": "2023-05-20T08:32:15.085Z"
   },
   {
    "duration": 155,
    "start_time": "2023-05-20T08:32:15.289Z"
   },
   {
    "duration": 194,
    "start_time": "2023-05-20T08:32:15.445Z"
   },
   {
    "duration": 12,
    "start_time": "2023-05-20T08:32:15.642Z"
   },
   {
    "duration": 36,
    "start_time": "2023-05-20T08:32:15.656Z"
   },
   {
    "duration": 9,
    "start_time": "2023-05-20T08:32:15.693Z"
   },
   {
    "duration": 36,
    "start_time": "2023-05-20T08:32:15.705Z"
   },
   {
    "duration": 1181,
    "start_time": "2023-05-20T08:41:50.381Z"
   },
   {
    "duration": 125,
    "start_time": "2023-05-20T08:41:51.564Z"
   },
   {
    "duration": 30,
    "start_time": "2023-05-20T08:41:51.692Z"
   },
   {
    "duration": 36,
    "start_time": "2023-05-20T08:41:51.725Z"
   },
   {
    "duration": 12,
    "start_time": "2023-05-20T08:41:51.763Z"
   },
   {
    "duration": 51,
    "start_time": "2023-05-20T08:41:51.777Z"
   },
   {
    "duration": 28,
    "start_time": "2023-05-20T08:41:51.830Z"
   },
   {
    "duration": 44,
    "start_time": "2023-05-20T08:41:51.861Z"
   },
   {
    "duration": 19,
    "start_time": "2023-05-20T08:41:51.906Z"
   },
   {
    "duration": 53,
    "start_time": "2023-05-20T08:41:51.928Z"
   },
   {
    "duration": 301,
    "start_time": "2023-05-20T08:41:51.983Z"
   },
   {
    "duration": 316,
    "start_time": "2023-05-20T08:41:52.286Z"
   },
   {
    "duration": 257,
    "start_time": "2023-05-20T08:41:52.604Z"
   },
   {
    "duration": 335,
    "start_time": "2023-05-20T08:41:52.863Z"
   },
   {
    "duration": 283,
    "start_time": "2023-05-20T08:41:53.199Z"
   },
   {
    "duration": 379,
    "start_time": "2023-05-20T08:41:53.483Z"
   },
   {
    "duration": 193,
    "start_time": "2023-05-20T08:41:53.864Z"
   },
   {
    "duration": 4,
    "start_time": "2023-05-20T08:41:54.059Z"
   },
   {
    "duration": 223,
    "start_time": "2023-05-20T08:41:54.065Z"
   },
   {
    "duration": 228,
    "start_time": "2023-05-20T08:41:54.290Z"
   },
   {
    "duration": 4,
    "start_time": "2023-05-20T08:41:54.524Z"
   },
   {
    "duration": 298,
    "start_time": "2023-05-20T08:41:54.530Z"
   },
   {
    "duration": 166,
    "start_time": "2023-05-20T08:41:54.831Z"
   },
   {
    "duration": 183,
    "start_time": "2023-05-20T08:41:54.999Z"
   },
   {
    "duration": 10,
    "start_time": "2023-05-20T08:41:55.184Z"
   },
   {
    "duration": 70,
    "start_time": "2023-05-20T08:41:55.196Z"
   },
   {
    "duration": 50,
    "start_time": "2023-05-20T08:41:55.268Z"
   },
   {
    "duration": 44,
    "start_time": "2023-05-20T08:41:55.321Z"
   },
   {
    "duration": 1144,
    "start_time": "2023-05-20T08:50:52.842Z"
   },
   {
    "duration": 109,
    "start_time": "2023-05-20T08:50:53.988Z"
   },
   {
    "duration": 22,
    "start_time": "2023-05-20T08:50:54.099Z"
   },
   {
    "duration": 43,
    "start_time": "2023-05-20T08:50:54.123Z"
   },
   {
    "duration": 15,
    "start_time": "2023-05-20T08:50:54.168Z"
   },
   {
    "duration": 39,
    "start_time": "2023-05-20T08:50:54.184Z"
   },
   {
    "duration": 27,
    "start_time": "2023-05-20T08:50:54.225Z"
   },
   {
    "duration": 44,
    "start_time": "2023-05-20T08:50:54.254Z"
   },
   {
    "duration": 31,
    "start_time": "2023-05-20T08:50:54.300Z"
   },
   {
    "duration": 32,
    "start_time": "2023-05-20T08:50:54.333Z"
   },
   {
    "duration": 396,
    "start_time": "2023-05-20T08:50:54.367Z"
   },
   {
    "duration": 393,
    "start_time": "2023-05-20T08:50:54.765Z"
   },
   {
    "duration": 285,
    "start_time": "2023-05-20T08:50:55.160Z"
   },
   {
    "duration": 334,
    "start_time": "2023-05-20T08:50:55.448Z"
   },
   {
    "duration": 266,
    "start_time": "2023-05-20T08:50:55.784Z"
   },
   {
    "duration": 329,
    "start_time": "2023-05-20T08:50:56.053Z"
   },
   {
    "duration": 192,
    "start_time": "2023-05-20T08:50:56.383Z"
   },
   {
    "duration": 5,
    "start_time": "2023-05-20T08:50:56.577Z"
   },
   {
    "duration": 214,
    "start_time": "2023-05-20T08:50:56.583Z"
   },
   {
    "duration": 229,
    "start_time": "2023-05-20T08:50:56.799Z"
   },
   {
    "duration": 5,
    "start_time": "2023-05-20T08:50:57.030Z"
   },
   {
    "duration": 178,
    "start_time": "2023-05-20T08:50:57.037Z"
   },
   {
    "duration": 165,
    "start_time": "2023-05-20T08:50:57.217Z"
   },
   {
    "duration": 192,
    "start_time": "2023-05-20T08:50:57.383Z"
   },
   {
    "duration": 13,
    "start_time": "2023-05-20T08:50:57.576Z"
   },
   {
    "duration": 58,
    "start_time": "2023-05-20T08:50:57.591Z"
   },
   {
    "duration": 12,
    "start_time": "2023-05-20T08:50:57.651Z"
   },
   {
    "duration": 38,
    "start_time": "2023-05-20T08:50:57.666Z"
   }
  ],
  "kernelspec": {
   "display_name": "Python 3 (ipykernel)",
   "language": "python",
   "name": "python3"
  },
  "language_info": {
   "codemirror_mode": {
    "name": "ipython",
    "version": 3
   },
   "file_extension": ".py",
   "mimetype": "text/x-python",
   "name": "python",
   "nbconvert_exporter": "python",
   "pygments_lexer": "ipython3",
   "version": "3.9.13"
  },
  "toc": {
   "base_numbering": 1,
   "nav_menu": {
    "height": "222.997px",
    "width": "744.986px"
   },
   "number_sections": true,
   "sideBar": true,
   "skip_h1_title": true,
   "title_cell": "Table of Contents",
   "title_sidebar": "Contents",
   "toc_cell": false,
   "toc_position": {
    "height": "700.909px",
    "left": "21px",
    "top": "110.795px",
    "width": "322.266px"
   },
   "toc_section_display": true,
   "toc_window_display": true
  }
 },
 "nbformat": 4,
 "nbformat_minor": 5
}
